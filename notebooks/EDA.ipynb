{
 "cells": [
  {
   "cell_type": "code",
   "execution_count": 1,
   "metadata": {},
   "outputs": [],
   "source": [
    "import pandas as pd\n",
    "import numpy as np\n",
    "import matplotlib.pyplot as plt\n",
    "import seaborn as sns\n",
    "\n",
    "import sys\n",
    "sys.path.append(\"../src\")\n",
    "from utils.utils import query_db"
   ]
  },
  {
   "cell_type": "code",
   "execution_count": 2,
   "metadata": {},
   "outputs": [],
   "source": [
    "db_path = '../data/movies.db'"
   ]
  },
  {
   "cell_type": "code",
   "execution_count": 3,
   "metadata": {},
   "outputs": [
    {
     "data": {
      "text/html": [
       "<div>\n",
       "<style scoped>\n",
       "    .dataframe tbody tr th:only-of-type {\n",
       "        vertical-align: middle;\n",
       "    }\n",
       "\n",
       "    .dataframe tbody tr th {\n",
       "        vertical-align: top;\n",
       "    }\n",
       "\n",
       "    .dataframe thead th {\n",
       "        text-align: right;\n",
       "    }\n",
       "</style>\n",
       "<table border=\"1\" class=\"dataframe\">\n",
       "  <thead>\n",
       "    <tr style=\"text-align: right;\">\n",
       "      <th></th>\n",
       "      <th>id</th>\n",
       "      <th>title</th>\n",
       "      <th>release_date</th>\n",
       "      <th>original_language</th>\n",
       "      <th>adult</th>\n",
       "      <th>video</th>\n",
       "      <th>popularity</th>\n",
       "      <th>overview</th>\n",
       "      <th>vote_average</th>\n",
       "      <th>vote_count</th>\n",
       "    </tr>\n",
       "  </thead>\n",
       "  <tbody>\n",
       "    <tr>\n",
       "      <th>0</th>\n",
       "      <td>1</td>\n",
       "      <td>Final Destination Bloodlines</td>\n",
       "      <td>2025-05-14</td>\n",
       "      <td>en</td>\n",
       "      <td>0</td>\n",
       "      <td>0</td>\n",
       "      <td>1075.9213</td>\n",
       "      <td>Plagued by a violent recurring nightmare, coll...</td>\n",
       "      <td>7.118</td>\n",
       "      <td>777</td>\n",
       "    </tr>\n",
       "    <tr>\n",
       "      <th>1</th>\n",
       "      <td>2</td>\n",
       "      <td>STRAW</td>\n",
       "      <td>2025-06-05</td>\n",
       "      <td>en</td>\n",
       "      <td>0</td>\n",
       "      <td>0</td>\n",
       "      <td>501.8777</td>\n",
       "      <td>What will be her last straw? A devastatingly b...</td>\n",
       "      <td>8.101</td>\n",
       "      <td>467</td>\n",
       "    </tr>\n",
       "    <tr>\n",
       "      <th>2</th>\n",
       "      <td>3</td>\n",
       "      <td>Predator: Killer of Killers</td>\n",
       "      <td>2025-06-05</td>\n",
       "      <td>en</td>\n",
       "      <td>0</td>\n",
       "      <td>0</td>\n",
       "      <td>438.9421</td>\n",
       "      <td>While three of the fiercest warriors in human ...</td>\n",
       "      <td>7.981</td>\n",
       "      <td>515</td>\n",
       "    </tr>\n",
       "    <tr>\n",
       "      <th>3</th>\n",
       "      <td>4</td>\n",
       "      <td>Lilo &amp; Stitch</td>\n",
       "      <td>2025-05-17</td>\n",
       "      <td>en</td>\n",
       "      <td>0</td>\n",
       "      <td>0</td>\n",
       "      <td>430.0868</td>\n",
       "      <td>The wildly funny and touching story of a lonel...</td>\n",
       "      <td>7.088</td>\n",
       "      <td>647</td>\n",
       "    </tr>\n",
       "    <tr>\n",
       "      <th>4</th>\n",
       "      <td>5</td>\n",
       "      <td>The Accountant²</td>\n",
       "      <td>2025-04-23</td>\n",
       "      <td>en</td>\n",
       "      <td>0</td>\n",
       "      <td>0</td>\n",
       "      <td>378.3110</td>\n",
       "      <td>When an old acquaintance is murdered, Wolff is...</td>\n",
       "      <td>7.200</td>\n",
       "      <td>804</td>\n",
       "    </tr>\n",
       "    <tr>\n",
       "      <th>...</th>\n",
       "      <td>...</td>\n",
       "      <td>...</td>\n",
       "      <td>...</td>\n",
       "      <td>...</td>\n",
       "      <td>...</td>\n",
       "      <td>...</td>\n",
       "      <td>...</td>\n",
       "      <td>...</td>\n",
       "      <td>...</td>\n",
       "      <td>...</td>\n",
       "    </tr>\n",
       "    <tr>\n",
       "      <th>5299</th>\n",
       "      <td>5300</td>\n",
       "      <td>Life Is Salty!</td>\n",
       "      <td>2025-05-09</td>\n",
       "      <td>my</td>\n",
       "      <td>0</td>\n",
       "      <td>0</td>\n",
       "      <td>0.0000</td>\n",
       "      <td></td>\n",
       "      <td>0.000</td>\n",
       "      <td>0</td>\n",
       "    </tr>\n",
       "    <tr>\n",
       "      <th>5300</th>\n",
       "      <td>5301</td>\n",
       "      <td>Se isso é cinema, me desculpe</td>\n",
       "      <td>2025-06-07</td>\n",
       "      <td>pt</td>\n",
       "      <td>0</td>\n",
       "      <td>0</td>\n",
       "      <td>0.0000</td>\n",
       "      <td></td>\n",
       "      <td>0.000</td>\n",
       "      <td>0</td>\n",
       "    </tr>\n",
       "    <tr>\n",
       "      <th>5301</th>\n",
       "      <td>5302</td>\n",
       "      <td>The Cold Kill</td>\n",
       "      <td>2025-05-30</td>\n",
       "      <td>en</td>\n",
       "      <td>0</td>\n",
       "      <td>0</td>\n",
       "      <td>0.0000</td>\n",
       "      <td>\"The Cold Kill\" is a tense short film that fol...</td>\n",
       "      <td>0.000</td>\n",
       "      <td>0</td>\n",
       "    </tr>\n",
       "    <tr>\n",
       "      <th>5302</th>\n",
       "      <td>5303</td>\n",
       "      <td>Johnny Kraftmeile vs the army of super-reptiloids</td>\n",
       "      <td>2025-05-09</td>\n",
       "      <td>de</td>\n",
       "      <td>0</td>\n",
       "      <td>0</td>\n",
       "      <td>0.0000</td>\n",
       "      <td>When Johnny Kraftmeile kills some henchmen of ...</td>\n",
       "      <td>0.000</td>\n",
       "      <td>0</td>\n",
       "    </tr>\n",
       "    <tr>\n",
       "      <th>5303</th>\n",
       "      <td>5304</td>\n",
       "      <td>A Tunnel</td>\n",
       "      <td>2025-05-10</td>\n",
       "      <td>pt</td>\n",
       "      <td>0</td>\n",
       "      <td>0</td>\n",
       "      <td>0.0000</td>\n",
       "      <td>The city is engulfed in darkness. Four actress...</td>\n",
       "      <td>0.000</td>\n",
       "      <td>0</td>\n",
       "    </tr>\n",
       "  </tbody>\n",
       "</table>\n",
       "<p>5304 rows × 10 columns</p>\n",
       "</div>"
      ],
      "text/plain": [
       "        id                                              title release_date  \\\n",
       "0        1                       Final Destination Bloodlines   2025-05-14   \n",
       "1        2                                              STRAW   2025-06-05   \n",
       "2        3                        Predator: Killer of Killers   2025-06-05   \n",
       "3        4                                      Lilo & Stitch   2025-05-17   \n",
       "4        5                                    The Accountant²   2025-04-23   \n",
       "...    ...                                                ...          ...   \n",
       "5299  5300                                     Life Is Salty!   2025-05-09   \n",
       "5300  5301                      Se isso é cinema, me desculpe   2025-06-07   \n",
       "5301  5302                                      The Cold Kill   2025-05-30   \n",
       "5302  5303  Johnny Kraftmeile vs the army of super-reptiloids   2025-05-09   \n",
       "5303  5304                                           A Tunnel   2025-05-10   \n",
       "\n",
       "     original_language  adult  video  popularity  \\\n",
       "0                   en      0      0   1075.9213   \n",
       "1                   en      0      0    501.8777   \n",
       "2                   en      0      0    438.9421   \n",
       "3                   en      0      0    430.0868   \n",
       "4                   en      0      0    378.3110   \n",
       "...                ...    ...    ...         ...   \n",
       "5299                my      0      0      0.0000   \n",
       "5300                pt      0      0      0.0000   \n",
       "5301                en      0      0      0.0000   \n",
       "5302                de      0      0      0.0000   \n",
       "5303                pt      0      0      0.0000   \n",
       "\n",
       "                                               overview  vote_average  \\\n",
       "0     Plagued by a violent recurring nightmare, coll...         7.118   \n",
       "1     What will be her last straw? A devastatingly b...         8.101   \n",
       "2     While three of the fiercest warriors in human ...         7.981   \n",
       "3     The wildly funny and touching story of a lonel...         7.088   \n",
       "4     When an old acquaintance is murdered, Wolff is...         7.200   \n",
       "...                                                 ...           ...   \n",
       "5299                                                            0.000   \n",
       "5300                                                            0.000   \n",
       "5301  \"The Cold Kill\" is a tense short film that fol...         0.000   \n",
       "5302  When Johnny Kraftmeile kills some henchmen of ...         0.000   \n",
       "5303  The city is engulfed in darkness. Four actress...         0.000   \n",
       "\n",
       "      vote_count  \n",
       "0            777  \n",
       "1            467  \n",
       "2            515  \n",
       "3            647  \n",
       "4            804  \n",
       "...          ...  \n",
       "5299           0  \n",
       "5300           0  \n",
       "5301           0  \n",
       "5302           0  \n",
       "5303           0  \n",
       "\n",
       "[5304 rows x 10 columns]"
      ]
     },
     "execution_count": 3,
     "metadata": {},
     "output_type": "execute_result"
    }
   ],
   "source": [
    "movies_df = query_db(\"SELECT * FROM movies;\", db_path)\n",
    "movies_df"
   ]
  },
  {
   "cell_type": "code",
   "execution_count": 4,
   "metadata": {},
   "outputs": [
    {
     "data": {
      "text/html": [
       "<div>\n",
       "<style scoped>\n",
       "    .dataframe tbody tr th:only-of-type {\n",
       "        vertical-align: middle;\n",
       "    }\n",
       "\n",
       "    .dataframe tbody tr th {\n",
       "        vertical-align: top;\n",
       "    }\n",
       "\n",
       "    .dataframe thead th {\n",
       "        text-align: right;\n",
       "    }\n",
       "</style>\n",
       "<table border=\"1\" class=\"dataframe\">\n",
       "  <thead>\n",
       "    <tr style=\"text-align: right;\">\n",
       "      <th></th>\n",
       "      <th>id</th>\n",
       "      <th>release_date</th>\n",
       "      <th>adult</th>\n",
       "      <th>video</th>\n",
       "      <th>popularity</th>\n",
       "      <th>vote_average</th>\n",
       "      <th>vote_count</th>\n",
       "    </tr>\n",
       "  </thead>\n",
       "  <tbody>\n",
       "    <tr>\n",
       "      <th>count</th>\n",
       "      <td>5304.000000</td>\n",
       "      <td>5288</td>\n",
       "      <td>5304.0</td>\n",
       "      <td>5304.0</td>\n",
       "      <td>5304.000000</td>\n",
       "      <td>5304.000000</td>\n",
       "      <td>5304.000000</td>\n",
       "    </tr>\n",
       "    <tr>\n",
       "      <th>mean</th>\n",
       "      <td>2652.500000</td>\n",
       "      <td>2024-10-04 03:02:43.388804608</td>\n",
       "      <td>0.0</td>\n",
       "      <td>0.0</td>\n",
       "      <td>1.822623</td>\n",
       "      <td>1.650952</td>\n",
       "      <td>43.886124</td>\n",
       "    </tr>\n",
       "    <tr>\n",
       "      <th>min</th>\n",
       "      <td>1.000000</td>\n",
       "      <td>1912-05-30 00:00:00</td>\n",
       "      <td>0.0</td>\n",
       "      <td>0.0</td>\n",
       "      <td>0.000000</td>\n",
       "      <td>0.000000</td>\n",
       "      <td>0.000000</td>\n",
       "    </tr>\n",
       "    <tr>\n",
       "      <th>25%</th>\n",
       "      <td>1326.750000</td>\n",
       "      <td>2025-05-12 00:00:00</td>\n",
       "      <td>0.0</td>\n",
       "      <td>0.0</td>\n",
       "      <td>0.026100</td>\n",
       "      <td>0.000000</td>\n",
       "      <td>0.000000</td>\n",
       "    </tr>\n",
       "    <tr>\n",
       "      <th>50%</th>\n",
       "      <td>2652.500000</td>\n",
       "      <td>2025-05-23 00:00:00</td>\n",
       "      <td>0.0</td>\n",
       "      <td>0.0</td>\n",
       "      <td>0.062100</td>\n",
       "      <td>0.000000</td>\n",
       "      <td>0.000000</td>\n",
       "    </tr>\n",
       "    <tr>\n",
       "      <th>75%</th>\n",
       "      <td>3978.250000</td>\n",
       "      <td>2025-06-05 00:00:00</td>\n",
       "      <td>0.0</td>\n",
       "      <td>0.0</td>\n",
       "      <td>0.205850</td>\n",
       "      <td>0.000000</td>\n",
       "      <td>0.000000</td>\n",
       "    </tr>\n",
       "    <tr>\n",
       "      <th>max</th>\n",
       "      <td>5304.000000</td>\n",
       "      <td>2025-06-26 00:00:00</td>\n",
       "      <td>0.0</td>\n",
       "      <td>0.0</td>\n",
       "      <td>1075.921300</td>\n",
       "      <td>10.000000</td>\n",
       "      <td>15639.000000</td>\n",
       "    </tr>\n",
       "    <tr>\n",
       "      <th>std</th>\n",
       "      <td>1531.277245</td>\n",
       "      <td>NaN</td>\n",
       "      <td>0.0</td>\n",
       "      <td>0.0</td>\n",
       "      <td>21.941865</td>\n",
       "      <td>3.175613</td>\n",
       "      <td>476.573554</td>\n",
       "    </tr>\n",
       "  </tbody>\n",
       "</table>\n",
       "</div>"
      ],
      "text/plain": [
       "                id                   release_date   adult   video  \\\n",
       "count  5304.000000                           5288  5304.0  5304.0   \n",
       "mean   2652.500000  2024-10-04 03:02:43.388804608     0.0     0.0   \n",
       "min       1.000000            1912-05-30 00:00:00     0.0     0.0   \n",
       "25%    1326.750000            2025-05-12 00:00:00     0.0     0.0   \n",
       "50%    2652.500000            2025-05-23 00:00:00     0.0     0.0   \n",
       "75%    3978.250000            2025-06-05 00:00:00     0.0     0.0   \n",
       "max    5304.000000            2025-06-26 00:00:00     0.0     0.0   \n",
       "std    1531.277245                            NaN     0.0     0.0   \n",
       "\n",
       "        popularity  vote_average    vote_count  \n",
       "count  5304.000000   5304.000000   5304.000000  \n",
       "mean      1.822623      1.650952     43.886124  \n",
       "min       0.000000      0.000000      0.000000  \n",
       "25%       0.026100      0.000000      0.000000  \n",
       "50%       0.062100      0.000000      0.000000  \n",
       "75%       0.205850      0.000000      0.000000  \n",
       "max    1075.921300     10.000000  15639.000000  \n",
       "std      21.941865      3.175613    476.573554  "
      ]
     },
     "execution_count": 4,
     "metadata": {},
     "output_type": "execute_result"
    }
   ],
   "source": [
    "movies_df.describe()"
   ]
  },
  {
   "cell_type": "code",
   "execution_count": 5,
   "metadata": {},
   "outputs": [
    {
     "data": {
      "text/html": [
       "<div>\n",
       "<style scoped>\n",
       "    .dataframe tbody tr th:only-of-type {\n",
       "        vertical-align: middle;\n",
       "    }\n",
       "\n",
       "    .dataframe tbody tr th {\n",
       "        vertical-align: top;\n",
       "    }\n",
       "\n",
       "    .dataframe thead th {\n",
       "        text-align: right;\n",
       "    }\n",
       "</style>\n",
       "<table border=\"1\" class=\"dataframe\">\n",
       "  <thead>\n",
       "    <tr style=\"text-align: right;\">\n",
       "      <th></th>\n",
       "      <th>cid</th>\n",
       "      <th>name</th>\n",
       "      <th>type</th>\n",
       "      <th>notnull</th>\n",
       "      <th>dflt_value</th>\n",
       "      <th>pk</th>\n",
       "    </tr>\n",
       "  </thead>\n",
       "  <tbody>\n",
       "    <tr>\n",
       "      <th>0</th>\n",
       "      <td>0</td>\n",
       "      <td>id</td>\n",
       "      <td>INTEGER</td>\n",
       "      <td>1</td>\n",
       "      <td>None</td>\n",
       "      <td>1</td>\n",
       "    </tr>\n",
       "    <tr>\n",
       "      <th>1</th>\n",
       "      <td>1</td>\n",
       "      <td>title</td>\n",
       "      <td>TEXT</td>\n",
       "      <td>1</td>\n",
       "      <td>None</td>\n",
       "      <td>0</td>\n",
       "    </tr>\n",
       "    <tr>\n",
       "      <th>2</th>\n",
       "      <td>2</td>\n",
       "      <td>release_date</td>\n",
       "      <td>DATE</td>\n",
       "      <td>0</td>\n",
       "      <td>None</td>\n",
       "      <td>0</td>\n",
       "    </tr>\n",
       "    <tr>\n",
       "      <th>3</th>\n",
       "      <td>3</td>\n",
       "      <td>original_language</td>\n",
       "      <td>CHAR(2)</td>\n",
       "      <td>0</td>\n",
       "      <td>None</td>\n",
       "      <td>0</td>\n",
       "    </tr>\n",
       "    <tr>\n",
       "      <th>4</th>\n",
       "      <td>4</td>\n",
       "      <td>adult</td>\n",
       "      <td>INTEGER</td>\n",
       "      <td>0</td>\n",
       "      <td>None</td>\n",
       "      <td>0</td>\n",
       "    </tr>\n",
       "    <tr>\n",
       "      <th>5</th>\n",
       "      <td>5</td>\n",
       "      <td>video</td>\n",
       "      <td>INTEGER</td>\n",
       "      <td>0</td>\n",
       "      <td>None</td>\n",
       "      <td>0</td>\n",
       "    </tr>\n",
       "    <tr>\n",
       "      <th>6</th>\n",
       "      <td>6</td>\n",
       "      <td>popularity</td>\n",
       "      <td>FLOAT</td>\n",
       "      <td>0</td>\n",
       "      <td>None</td>\n",
       "      <td>0</td>\n",
       "    </tr>\n",
       "    <tr>\n",
       "      <th>7</th>\n",
       "      <td>7</td>\n",
       "      <td>overview</td>\n",
       "      <td>TEXT</td>\n",
       "      <td>0</td>\n",
       "      <td>None</td>\n",
       "      <td>0</td>\n",
       "    </tr>\n",
       "    <tr>\n",
       "      <th>8</th>\n",
       "      <td>8</td>\n",
       "      <td>vote_average</td>\n",
       "      <td>FLOAT</td>\n",
       "      <td>0</td>\n",
       "      <td>None</td>\n",
       "      <td>0</td>\n",
       "    </tr>\n",
       "    <tr>\n",
       "      <th>9</th>\n",
       "      <td>9</td>\n",
       "      <td>vote_count</td>\n",
       "      <td>INTEGER</td>\n",
       "      <td>0</td>\n",
       "      <td>None</td>\n",
       "      <td>0</td>\n",
       "    </tr>\n",
       "  </tbody>\n",
       "</table>\n",
       "</div>"
      ],
      "text/plain": [
       "   cid               name     type  notnull dflt_value  pk\n",
       "0    0                 id  INTEGER        1       None   1\n",
       "1    1              title     TEXT        1       None   0\n",
       "2    2       release_date     DATE        0       None   0\n",
       "3    3  original_language  CHAR(2)        0       None   0\n",
       "4    4              adult  INTEGER        0       None   0\n",
       "5    5              video  INTEGER        0       None   0\n",
       "6    6         popularity    FLOAT        0       None   0\n",
       "7    7           overview     TEXT        0       None   0\n",
       "8    8       vote_average    FLOAT        0       None   0\n",
       "9    9         vote_count  INTEGER        0       None   0"
      ]
     },
     "execution_count": 5,
     "metadata": {},
     "output_type": "execute_result"
    }
   ],
   "source": [
    "query_db(\"PRAGMA table_info(movies)\", db_path)"
   ]
  },
  {
   "cell_type": "code",
   "execution_count": 6,
   "metadata": {},
   "outputs": [],
   "source": [
    "def find_outliers(df, column):\n",
    "    q1 = df[column].quantile(0.25)\n",
    "    q3 = df[column].quantile(0.75)\n",
    "    iqr = q3 - q1\n",
    "    lower_bound = q1 - 1.5 * iqr\n",
    "    upper_bound = q3 + 1.5 * iqr\n",
    "    outliers = df[(df[column] < lower_bound) | (df[column] > upper_bound)]\n",
    "    outliers.sort_values(by=column, inplace=True)\n",
    "    return outliers"
   ]
  },
  {
   "cell_type": "code",
   "execution_count": 7,
   "metadata": {},
   "outputs": [
    {
     "data": {
      "text/html": [
       "<div>\n",
       "<style scoped>\n",
       "    .dataframe tbody tr th:only-of-type {\n",
       "        vertical-align: middle;\n",
       "    }\n",
       "\n",
       "    .dataframe tbody tr th {\n",
       "        vertical-align: top;\n",
       "    }\n",
       "\n",
       "    .dataframe thead th {\n",
       "        text-align: right;\n",
       "    }\n",
       "</style>\n",
       "<table border=\"1\" class=\"dataframe\">\n",
       "  <thead>\n",
       "    <tr style=\"text-align: right;\">\n",
       "      <th></th>\n",
       "      <th>original_language</th>\n",
       "      <th>num_movies</th>\n",
       "    </tr>\n",
       "  </thead>\n",
       "  <tbody>\n",
       "    <tr>\n",
       "      <th>0</th>\n",
       "      <td>en</td>\n",
       "      <td>2545</td>\n",
       "    </tr>\n",
       "    <tr>\n",
       "      <th>1</th>\n",
       "      <td>fr</td>\n",
       "      <td>420</td>\n",
       "    </tr>\n",
       "    <tr>\n",
       "      <th>2</th>\n",
       "      <td>es</td>\n",
       "      <td>385</td>\n",
       "    </tr>\n",
       "    <tr>\n",
       "      <th>3</th>\n",
       "      <td>pt</td>\n",
       "      <td>291</td>\n",
       "    </tr>\n",
       "    <tr>\n",
       "      <th>4</th>\n",
       "      <td>zh</td>\n",
       "      <td>165</td>\n",
       "    </tr>\n",
       "    <tr>\n",
       "      <th>5</th>\n",
       "      <td>de</td>\n",
       "      <td>140</td>\n",
       "    </tr>\n",
       "    <tr>\n",
       "      <th>6</th>\n",
       "      <td>it</td>\n",
       "      <td>119</td>\n",
       "    </tr>\n",
       "    <tr>\n",
       "      <th>7</th>\n",
       "      <td>ja</td>\n",
       "      <td>111</td>\n",
       "    </tr>\n",
       "    <tr>\n",
       "      <th>8</th>\n",
       "      <td>ru</td>\n",
       "      <td>79</td>\n",
       "    </tr>\n",
       "    <tr>\n",
       "      <th>9</th>\n",
       "      <td>ko</td>\n",
       "      <td>71</td>\n",
       "    </tr>\n",
       "  </tbody>\n",
       "</table>\n",
       "</div>"
      ],
      "text/plain": [
       "  original_language  num_movies\n",
       "0                en        2545\n",
       "1                fr         420\n",
       "2                es         385\n",
       "3                pt         291\n",
       "4                zh         165\n",
       "5                de         140\n",
       "6                it         119\n",
       "7                ja         111\n",
       "8                ru          79\n",
       "9                ko          71"
      ]
     },
     "execution_count": 7,
     "metadata": {},
     "output_type": "execute_result"
    }
   ],
   "source": [
    "#Top languages of current movies\n",
    "query = \"\"\"\n",
    "    SELECT original_language, COUNT(original_language) as num_movies\n",
    "    FROM movies\n",
    "    GROUP BY original_language\n",
    "    ORDER BY num_movies DESC\n",
    "    LIMIT 10;\n",
    "\"\"\"\n",
    "top_languages = query_db(query, db_path)\n",
    "top_languages"
   ]
  },
  {
   "cell_type": "code",
   "execution_count": 8,
   "metadata": {},
   "outputs": [
    {
     "data": {
      "image/png": "[encoded data removed]",
      "text/plain": [
       "<Figure size 1000x600 with 1 Axes>"
      ]
     },
     "metadata": {},
     "output_type": "display_data"
    }
   ],
   "source": [
    "# Plot the top languages\n",
    "plt.figure(figsize=(10, 6))\n",
    "sns.barplot(data=top_languages, x='num_movies', y='original_language')\n",
    "plt.title('Top most common languages')\n",
    "plt.xlabel('Movies count')\n",
    "plt.ylabel('Language')\n",
    "plt.show()"
   ]
  },
  {
   "cell_type": "code",
   "execution_count": 9,
   "metadata": {},
   "outputs": [
    {
     "data": {
      "image/png": "[encoded data removed]",
      "text/plain": [
       "<Figure size 1000x600 with 1 Axes>"
      ]
     },
     "metadata": {},
     "output_type": "display_data"
    }
   ],
   "source": [
    "# Plot the distribution of the vote_count\n",
    "plt.figure(figsize=(10, 6))\n",
    "sns.histplot(movies_df['vote_count'], bins=30, kde=True)\n",
    "plt.title('Distribution of movies votes count')\n",
    "plt.xlabel('Vote Count')\n",
    "plt.ylabel('Count')\n",
    "plt.show()"
   ]
  },
  {
   "cell_type": "code",
   "execution_count": 10,
   "metadata": {},
   "outputs": [
    {
     "data": {
      "image/png": "[encoded data removed]",
      "text/plain": [
       "<Figure size 1000x600 with 1 Axes>"
      ]
     },
     "metadata": {},
     "output_type": "display_data"
    }
   ],
   "source": [
    "# Plot the distribution of the popularity of the movies\n",
    "plt.figure(figsize=(10, 6))\n",
    "sns.histplot(movies_df['popularity'], bins=30, kde=True)\n",
    "plt.title('Distribution of movies popularity')\n",
    "plt.xlabel('Popularity')\n",
    "plt.ylabel('Count')\n",
    "plt.show()"
   ]
  },
  {
   "cell_type": "markdown",
   "metadata": {},
   "source": [
    "## Top movies by popularity"
   ]
  },
  {
   "cell_type": "code",
   "execution_count": 11,
   "metadata": {},
   "outputs": [
    {
     "data": {
      "text/html": [
       "<div>\n",
       "<style scoped>\n",
       "    .dataframe tbody tr th:only-of-type {\n",
       "        vertical-align: middle;\n",
       "    }\n",
       "\n",
       "    .dataframe tbody tr th {\n",
       "        vertical-align: top;\n",
       "    }\n",
       "\n",
       "    .dataframe thead th {\n",
       "        text-align: right;\n",
       "    }\n",
       "</style>\n",
       "<table border=\"1\" class=\"dataframe\">\n",
       "  <thead>\n",
       "    <tr style=\"text-align: right;\">\n",
       "      <th></th>\n",
       "      <th>title</th>\n",
       "      <th>popularity</th>\n",
       "    </tr>\n",
       "  </thead>\n",
       "  <tbody>\n",
       "    <tr>\n",
       "      <th>0</th>\n",
       "      <td>Final Destination Bloodlines</td>\n",
       "      <td>1075.9213</td>\n",
       "    </tr>\n",
       "    <tr>\n",
       "      <th>1</th>\n",
       "      <td>STRAW</td>\n",
       "      <td>501.8777</td>\n",
       "    </tr>\n",
       "    <tr>\n",
       "      <th>2</th>\n",
       "      <td>Predator: Killer of Killers</td>\n",
       "      <td>438.9421</td>\n",
       "    </tr>\n",
       "    <tr>\n",
       "      <th>3</th>\n",
       "      <td>Lilo &amp; Stitch</td>\n",
       "      <td>430.0868</td>\n",
       "    </tr>\n",
       "    <tr>\n",
       "      <th>4</th>\n",
       "      <td>The Accountant²</td>\n",
       "      <td>378.3110</td>\n",
       "    </tr>\n",
       "    <tr>\n",
       "      <th>5</th>\n",
       "      <td>How to Train Your Dragon</td>\n",
       "      <td>338.6434</td>\n",
       "    </tr>\n",
       "    <tr>\n",
       "      <th>6</th>\n",
       "      <td>Deep Cover</td>\n",
       "      <td>275.5161</td>\n",
       "    </tr>\n",
       "    <tr>\n",
       "      <th>7</th>\n",
       "      <td>Clown in a Cornfield</td>\n",
       "      <td>258.5491</td>\n",
       "    </tr>\n",
       "    <tr>\n",
       "      <th>8</th>\n",
       "      <td>Sinners</td>\n",
       "      <td>243.1523</td>\n",
       "    </tr>\n",
       "    <tr>\n",
       "      <th>9</th>\n",
       "      <td>K.O.</td>\n",
       "      <td>234.3237</td>\n",
       "    </tr>\n",
       "  </tbody>\n",
       "</table>\n",
       "</div>"
      ],
      "text/plain": [
       "                          title  popularity\n",
       "0  Final Destination Bloodlines   1075.9213\n",
       "1                         STRAW    501.8777\n",
       "2   Predator: Killer of Killers    438.9421\n",
       "3                 Lilo & Stitch    430.0868\n",
       "4               The Accountant²    378.3110\n",
       "5      How to Train Your Dragon    338.6434\n",
       "6                    Deep Cover    275.5161\n",
       "7          Clown in a Cornfield    258.5491\n",
       "8                       Sinners    243.1523\n",
       "9                          K.O.    234.3237"
      ]
     },
     "execution_count": 11,
     "metadata": {},
     "output_type": "execute_result"
    }
   ],
   "source": [
    "query = \"\"\"\n",
    "    SELECT title, popularity\n",
    "    FROM movies\n",
    "    ORDER BY popularity DESC\n",
    "    LIMIT 10;\n",
    "\"\"\"\n",
    "popular_movies = query_db(query, db_path)\n",
    "popular_movies"
   ]
  },
  {
   "cell_type": "code",
   "execution_count": 12,
   "metadata": {},
   "outputs": [
    {
     "data": {
      "text/plain": [
       "<Axes: xlabel='popularity', ylabel='title'>"
      ]
     },
     "execution_count": 12,
     "metadata": {},
     "output_type": "execute_result"
    },
    {
     "data": {
      "image/png": "[encoded data removed]",
      "text/plain": [
       "<Figure size 640x480 with 1 Axes>"
      ]
     },
     "metadata": {},
     "output_type": "display_data"
    }
   ],
   "source": [
    "sns.barplot(x='popularity', y='title', data=popular_movies)"
   ]
  },
  {
   "cell_type": "markdown",
   "metadata": {},
   "source": [
    "## Top languages by popularity"
   ]
  },
  {
   "cell_type": "code",
   "execution_count": 13,
   "metadata": {},
   "outputs": [
    {
     "data": {
      "text/html": [
       "<div>\n",
       "<style scoped>\n",
       "    .dataframe tbody tr th:only-of-type {\n",
       "        vertical-align: middle;\n",
       "    }\n",
       "\n",
       "    .dataframe tbody tr th {\n",
       "        vertical-align: top;\n",
       "    }\n",
       "\n",
       "    .dataframe thead th {\n",
       "        text-align: right;\n",
       "    }\n",
       "</style>\n",
       "<table border=\"1\" class=\"dataframe\">\n",
       "  <thead>\n",
       "    <tr style=\"text-align: right;\">\n",
       "      <th></th>\n",
       "      <th>original_language</th>\n",
       "      <th>avg_popularity</th>\n",
       "    </tr>\n",
       "  </thead>\n",
       "  <tbody>\n",
       "    <tr>\n",
       "      <th>0</th>\n",
       "      <td>no</td>\n",
       "      <td>9.271219</td>\n",
       "    </tr>\n",
       "    <tr>\n",
       "      <th>1</th>\n",
       "      <td>bn</td>\n",
       "      <td>4.020858</td>\n",
       "    </tr>\n",
       "    <tr>\n",
       "      <th>2</th>\n",
       "      <td>lv</td>\n",
       "      <td>3.914233</td>\n",
       "    </tr>\n",
       "    <tr>\n",
       "      <th>3</th>\n",
       "      <td>en</td>\n",
       "      <td>2.932569</td>\n",
       "    </tr>\n",
       "    <tr>\n",
       "      <th>4</th>\n",
       "      <td>ga</td>\n",
       "      <td>2.701500</td>\n",
       "    </tr>\n",
       "    <tr>\n",
       "      <th>5</th>\n",
       "      <td>ko</td>\n",
       "      <td>1.850700</td>\n",
       "    </tr>\n",
       "    <tr>\n",
       "      <th>6</th>\n",
       "      <td>te</td>\n",
       "      <td>1.613058</td>\n",
       "    </tr>\n",
       "    <tr>\n",
       "      <th>7</th>\n",
       "      <td>da</td>\n",
       "      <td>1.380332</td>\n",
       "    </tr>\n",
       "    <tr>\n",
       "      <th>8</th>\n",
       "      <td>ja</td>\n",
       "      <td>1.284056</td>\n",
       "    </tr>\n",
       "    <tr>\n",
       "      <th>9</th>\n",
       "      <td>ar</td>\n",
       "      <td>1.274921</td>\n",
       "    </tr>\n",
       "  </tbody>\n",
       "</table>\n",
       "</div>"
      ],
      "text/plain": [
       "  original_language  avg_popularity\n",
       "0                no        9.271219\n",
       "1                bn        4.020858\n",
       "2                lv        3.914233\n",
       "3                en        2.932569\n",
       "4                ga        2.701500\n",
       "5                ko        1.850700\n",
       "6                te        1.613058\n",
       "7                da        1.380332\n",
       "8                ja        1.284056\n",
       "9                ar        1.274921"
      ]
     },
     "execution_count": 13,
     "metadata": {},
     "output_type": "execute_result"
    }
   ],
   "source": [
    "query = \"\"\"\n",
    "    SELECT original_language, AVG(popularity) AS avg_popularity\n",
    "    FROM movies\n",
    "    GROUP BY original_language\n",
    "    ORDER BY avg_popularity DESC\n",
    "    LIMIT 10;\n",
    "\"\"\"\n",
    "popular_languages = query_db(query, db_path)\n",
    "popular_languages"
   ]
  },
  {
   "cell_type": "code",
   "execution_count": 14,
   "metadata": {},
   "outputs": [
    {
     "data": {
      "text/plain": [
       "<Axes: xlabel='avg_popularity', ylabel='original_language'>"
      ]
     },
     "execution_count": 14,
     "metadata": {},
     "output_type": "execute_result"
    },
    {
     "data": {
      "image/png": "[encoded data removed]",
      "text/plain": [
       "<Figure size 640x480 with 1 Axes>"
      ]
     },
     "metadata": {},
     "output_type": "display_data"
    }
   ],
   "source": [
    "sns.barplot(x='avg_popularity', y='original_language', data=popular_languages)"
   ]
  },
  {
   "cell_type": "code",
   "execution_count": 15,
   "metadata": {},
   "outputs": [
    {
     "data": {
      "application/vnd.plotly.v1+json": {
       "config": {
        "plotlyServerURL": "https://plot.ly"
       },
       "data": [
        {
         "hovertemplate": "Vote Average (bin)=%{x}<br>Number of Movies=%{y}<extra></extra>",
         "legendgroup": "",
         "marker": {
          "color": "#636efa",
          "pattern": {
           "shape": ""
          }
         },
         "name": "",
         "orientation": "v",
         "showlegend": false,
         "textposition": "auto",
         "type": "bar",
         "x": {
          "bdata": "BgcI",
          "dtype": "i1"
         },
         "xaxis": "x",
         "y": {
          "bdata": "AwUB",
          "dtype": "i1"
         },
         "yaxis": "y"
        }
       ],
       "layout": {
        "barmode": "relative",
        "legend": {
         "tracegroupgap": 0
        },
        "template": {
         "data": {
          "bar": [
           {
            "error_x": {
             "color": "#2a3f5f"
            },
            "error_y": {
             "color": "#2a3f5f"
            },
            "marker": {
             "line": {
              "color": "#E5ECF6",
              "width": 0.5
             },
             "pattern": {
              "fillmode": "overlay",
              "size": 10,
              "solidity": 0.2
             }
            },
            "type": "bar"
           }
          ],
          "barpolar": [
           {
            "marker": {
             "line": {
              "color": "#E5ECF6",
              "width": 0.5
             },
             "pattern": {
              "fillmode": "overlay",
              "size": 10,
              "solidity": 0.2
             }
            },
            "type": "barpolar"
           }
          ],
          "carpet": [
           {
            "aaxis": {
             "endlinecolor": "#2a3f5f",
             "gridcolor": "white",
             "linecolor": "white",
             "minorgridcolor": "white",
             "startlinecolor": "#2a3f5f"
            },
            "baxis": {
             "endlinecolor": "#2a3f5f",
             "gridcolor": "white",
             "linecolor": "white",
             "minorgridcolor": "white",
             "startlinecolor": "#2a3f5f"
            },
            "type": "carpet"
           }
          ],
          "choropleth": [
           {
            "colorbar": {
             "outlinewidth": 0,
             "ticks": ""
            },
            "type": "choropleth"
           }
          ],
          "contour": [
           {
            "colorbar": {
             "outlinewidth": 0,
             "ticks": ""
            },
            "colorscale": [
             [
              0,
              "#0d0887"
             ],
             [
              0.1111111111111111,
              "#46039f"
             ],
             [
              0.2222222222222222,
              "#7201a8"
             ],
             [
              0.3333333333333333,
              "#9c179e"
             ],
             [
              0.4444444444444444,
              "#bd3786"
             ],
             [
              0.5555555555555556,
              "#d8576b"
             ],
             [
              0.6666666666666666,
              "#ed7953"
             ],
             [
              0.7777777777777778,
              "#fb9f3a"
             ],
             [
              0.8888888888888888,
              "#fdca26"
             ],
             [
              1,
              "#f0f921"
             ]
            ],
            "type": "contour"
           }
          ],
          "contourcarpet": [
           {
            "colorbar": {
             "outlinewidth": 0,
             "ticks": ""
            },
            "type": "contourcarpet"
           }
          ],
          "heatmap": [
           {
            "colorbar": {
             "outlinewidth": 0,
             "ticks": ""
            },
            "colorscale": [
             [
              0,
              "#0d0887"
             ],
             [
              0.1111111111111111,
              "#46039f"
             ],
             [
              0.2222222222222222,
              "#7201a8"
             ],
             [
              0.3333333333333333,
              "#9c179e"
             ],
             [
              0.4444444444444444,
              "#bd3786"
             ],
             [
              0.5555555555555556,
              "#d8576b"
             ],
             [
              0.6666666666666666,
              "#ed7953"
             ],
             [
              0.7777777777777778,
              "#fb9f3a"
             ],
             [
              0.8888888888888888,
              "#fdca26"
             ],
             [
              1,
              "#f0f921"
             ]
            ],
            "type": "heatmap"
           }
          ],
          "histogram": [
           {
            "marker": {
             "pattern": {
              "fillmode": "overlay",
              "size": 10,
              "solidity": 0.2
             }
            },
            "type": "histogram"
           }
          ],
          "histogram2d": [
           {
            "colorbar": {
             "outlinewidth": 0,
             "ticks": ""
            },
            "colorscale": [
             [
              0,
              "#0d0887"
             ],
             [
              0.1111111111111111,
              "#46039f"
             ],
             [
              0.2222222222222222,
              "#7201a8"
             ],
             [
              0.3333333333333333,
              "#9c179e"
             ],
             [
              0.4444444444444444,
              "#bd3786"
             ],
             [
              0.5555555555555556,
              "#d8576b"
             ],
             [
              0.6666666666666666,
              "#ed7953"
             ],
             [
              0.7777777777777778,
              "#fb9f3a"
             ],
             [
              0.8888888888888888,
              "#fdca26"
             ],
             [
              1,
              "#f0f921"
             ]
            ],
            "type": "histogram2d"
           }
          ],
          "histogram2dcontour": [
           {
            "colorbar": {
             "outlinewidth": 0,
             "ticks": ""
            },
            "colorscale": [
             [
              0,
              "#0d0887"
             ],
             [
              0.1111111111111111,
              "#46039f"
             ],
             [
              0.2222222222222222,
              "#7201a8"
             ],
             [
              0.3333333333333333,
              "#9c179e"
             ],
             [
              0.4444444444444444,
              "#bd3786"
             ],
             [
              0.5555555555555556,
              "#d8576b"
             ],
             [
              0.6666666666666666,
              "#ed7953"
             ],
             [
              0.7777777777777778,
              "#fb9f3a"
             ],
             [
              0.8888888888888888,
              "#fdca26"
             ],
             [
              1,
              "#f0f921"
             ]
            ],
            "type": "histogram2dcontour"
           }
          ],
          "mesh3d": [
           {
            "colorbar": {
             "outlinewidth": 0,
             "ticks": ""
            },
            "type": "mesh3d"
           }
          ],
          "parcoords": [
           {
            "line": {
             "colorbar": {
              "outlinewidth": 0,
              "ticks": ""
             }
            },
            "type": "parcoords"
           }
          ],
          "pie": [
           {
            "automargin": true,
            "type": "pie"
           }
          ],
          "scatter": [
           {
            "fillpattern": {
             "fillmode": "overlay",
             "size": 10,
             "solidity": 0.2
            },
            "type": "scatter"
           }
          ],
          "scatter3d": [
           {
            "line": {
             "colorbar": {
              "outlinewidth": 0,
              "ticks": ""
             }
            },
            "marker": {
             "colorbar": {
              "outlinewidth": 0,
              "ticks": ""
             }
            },
            "type": "scatter3d"
           }
          ],
          "scattercarpet": [
           {
            "marker": {
             "colorbar": {
              "outlinewidth": 0,
              "ticks": ""
             }
            },
            "type": "scattercarpet"
           }
          ],
          "scattergeo": [
           {
            "marker": {
             "colorbar": {
              "outlinewidth": 0,
              "ticks": ""
             }
            },
            "type": "scattergeo"
           }
          ],
          "scattergl": [
           {
            "marker": {
             "colorbar": {
              "outlinewidth": 0,
              "ticks": ""
             }
            },
            "type": "scattergl"
           }
          ],
          "scattermap": [
           {
            "marker": {
             "colorbar": {
              "outlinewidth": 0,
              "ticks": ""
             }
            },
            "type": "scattermap"
           }
          ],
          "scattermapbox": [
           {
            "marker": {
             "colorbar": {
              "outlinewidth": 0,
              "ticks": ""
             }
            },
            "type": "scattermapbox"
           }
          ],
          "scatterpolar": [
           {
            "marker": {
             "colorbar": {
              "outlinewidth": 0,
              "ticks": ""
             }
            },
            "type": "scatterpolar"
           }
          ],
          "scatterpolargl": [
           {
            "marker": {
             "colorbar": {
              "outlinewidth": 0,
              "ticks": ""
             }
            },
            "type": "scatterpolargl"
           }
          ],
          "scatterternary": [
           {
            "marker": {
             "colorbar": {
              "outlinewidth": 0,
              "ticks": ""
             }
            },
            "type": "scatterternary"
           }
          ],
          "surface": [
           {
            "colorbar": {
             "outlinewidth": 0,
             "ticks": ""
            },
            "colorscale": [
             [
              0,
              "#0d0887"
             ],
             [
              0.1111111111111111,
              "#46039f"
             ],
             [
              0.2222222222222222,
              "#7201a8"
             ],
             [
              0.3333333333333333,
              "#9c179e"
             ],
             [
              0.4444444444444444,
              "#bd3786"
             ],
             [
              0.5555555555555556,
              "#d8576b"
             ],
             [
              0.6666666666666666,
              "#ed7953"
             ],
             [
              0.7777777777777778,
              "#fb9f3a"
             ],
             [
              0.8888888888888888,
              "#fdca26"
             ],
             [
              1,
              "#f0f921"
             ]
            ],
            "type": "surface"
           }
          ],
          "table": [
           {
            "cells": {
             "fill": {
              "color": "#EBF0F8"
             },
             "line": {
              "color": "white"
             }
            },
            "header": {
             "fill": {
              "color": "#C8D4E3"
             },
             "line": {
              "color": "white"
             }
            },
            "type": "table"
           }
          ]
         },
         "layout": {
          "annotationdefaults": {
           "arrowcolor": "#2a3f5f",
           "arrowhead": 0,
           "arrowwidth": 1
          },
          "autotypenumbers": "strict",
          "coloraxis": {
           "colorbar": {
            "outlinewidth": 0,
            "ticks": ""
           }
          },
          "colorscale": {
           "diverging": [
            [
             0,
             "#8e0152"
            ],
            [
             0.1,
             "#c51b7d"
            ],
            [
             0.2,
             "#de77ae"
            ],
            [
             0.3,
             "#f1b6da"
            ],
            [
             0.4,
             "#fde0ef"
            ],
            [
             0.5,
             "#f7f7f7"
            ],
            [
             0.6,
             "#e6f5d0"
            ],
            [
             0.7,
             "#b8e186"
            ],
            [
             0.8,
             "#7fbc41"
            ],
            [
             0.9,
             "#4d9221"
            ],
            [
             1,
             "#276419"
            ]
           ],
           "sequential": [
            [
             0,
             "#0d0887"
            ],
            [
             0.1111111111111111,
             "#46039f"
            ],
            [
             0.2222222222222222,
             "#7201a8"
            ],
            [
             0.3333333333333333,
             "#9c179e"
            ],
            [
             0.4444444444444444,
             "#bd3786"
            ],
            [
             0.5555555555555556,
             "#d8576b"
            ],
            [
             0.6666666666666666,
             "#ed7953"
            ],
            [
             0.7777777777777778,
             "#fb9f3a"
            ],
            [
             0.8888888888888888,
             "#fdca26"
            ],
            [
             1,
             "#f0f921"
            ]
           ],
           "sequentialminus": [
            [
             0,
             "#0d0887"
            ],
            [
             0.1111111111111111,
             "#46039f"
            ],
            [
             0.2222222222222222,
             "#7201a8"
            ],
            [
             0.3333333333333333,
             "#9c179e"
            ],
            [
             0.4444444444444444,
             "#bd3786"
            ],
            [
             0.5555555555555556,
             "#d8576b"
            ],
            [
             0.6666666666666666,
             "#ed7953"
            ],
            [
             0.7777777777777778,
             "#fb9f3a"
            ],
            [
             0.8888888888888888,
             "#fdca26"
            ],
            [
             1,
             "#f0f921"
            ]
           ]
          },
          "colorway": [
           "#636efa",
           "#EF553B",
           "#00cc96",
           "#ab63fa",
           "#FFA15A",
           "#19d3f3",
           "#FF6692",
           "#B6E880",
           "#FF97FF",
           "#FECB52"
          ],
          "font": {
           "color": "#2a3f5f"
          },
          "geo": {
           "bgcolor": "white",
           "lakecolor": "white",
           "landcolor": "#E5ECF6",
           "showlakes": true,
           "showland": true,
           "subunitcolor": "white"
          },
          "hoverlabel": {
           "align": "left"
          },
          "hovermode": "closest",
          "mapbox": {
           "style": "light"
          },
          "paper_bgcolor": "white",
          "plot_bgcolor": "#E5ECF6",
          "polar": {
           "angularaxis": {
            "gridcolor": "white",
            "linecolor": "white",
            "ticks": ""
           },
           "bgcolor": "#E5ECF6",
           "radialaxis": {
            "gridcolor": "white",
            "linecolor": "white",
            "ticks": ""
           }
          },
          "scene": {
           "xaxis": {
            "backgroundcolor": "#E5ECF6",
            "gridcolor": "white",
            "gridwidth": 2,
            "linecolor": "white",
            "showbackground": true,
            "ticks": "",
            "zerolinecolor": "white"
           },
           "yaxis": {
            "backgroundcolor": "#E5ECF6",
            "gridcolor": "white",
            "gridwidth": 2,
            "linecolor": "white",
            "showbackground": true,
            "ticks": "",
            "zerolinecolor": "white"
           },
           "zaxis": {
            "backgroundcolor": "#E5ECF6",
            "gridcolor": "white",
            "gridwidth": 2,
            "linecolor": "white",
            "showbackground": true,
            "ticks": "",
            "zerolinecolor": "white"
           }
          },
          "shapedefaults": {
           "line": {
            "color": "#2a3f5f"
           }
          },
          "ternary": {
           "aaxis": {
            "gridcolor": "white",
            "linecolor": "white",
            "ticks": ""
           },
           "baxis": {
            "gridcolor": "white",
            "linecolor": "white",
            "ticks": ""
           },
           "bgcolor": "#E5ECF6",
           "caxis": {
            "gridcolor": "white",
            "linecolor": "white",
            "ticks": ""
           }
          },
          "title": {
           "x": 0.05
          },
          "xaxis": {
           "automargin": true,
           "gridcolor": "white",
           "linecolor": "white",
           "ticks": "",
           "title": {
            "standoff": 15
           },
           "zerolinecolor": "white",
           "zerolinewidth": 2
          },
          "yaxis": {
           "automargin": true,
           "gridcolor": "white",
           "linecolor": "white",
           "ticks": "",
           "title": {
            "standoff": 15
           },
           "zerolinecolor": "white",
           "zerolinewidth": 2
          }
         }
        },
        "title": {
         "text": "Number of Movies per Vote Average Bin for \"ar\""
        },
        "xaxis": {
         "anchor": "y",
         "domain": [
          0,
          1
         ],
         "dtick": 1,
         "title": {
          "text": "Vote Average (bin)"
         }
        },
        "yaxis": {
         "anchor": "x",
         "domain": [
          0,
          1
         ],
         "title": {
          "text": "Number of Movies"
         }
        }
       }
      }
     },
     "metadata": {},
     "output_type": "display_data"
    },
    {
     "data": {
      "application/vnd.jupyter.widget-view+json": {
       "model_id": "4a9a8c48803d4f71b14d349205315946",
       "version_major": 2,
       "version_minor": 0
      },
      "text/plain": [
       "interactive(children=(Dropdown(description='Language:', options=('ar', 'az', 'bn', 'ca', 'cn', 'cs', 'da', 'de…"
      ]
     },
     "metadata": {},
     "output_type": "display_data"
    },
    {
     "data": {
      "text/plain": [
       "<function __main__.plot_vote_bins(selected_lang)>"
      ]
     },
     "execution_count": 15,
     "metadata": {},
     "output_type": "execute_result"
    }
   ],
   "source": [
    "import plotly.express as px\n",
    "import ipywidgets as widgets\n",
    "from IPython.display import display\n",
    "\n",
    "# Bin vote_average into integer bins from 1 to 10\n",
    "query = \"\"\"\n",
    "    SELECT original_language, \n",
    "           CAST(vote_average AS INTEGER) AS vote_bin,\n",
    "           COUNT(*) AS num_movies\n",
    "    FROM movies\n",
    "    WHERE vote_average >= 1 AND vote_average <= 10\n",
    "    GROUP BY original_language, vote_bin\n",
    "    ORDER BY original_language, vote_bin;\n",
    "\"\"\"\n",
    "vote_bins = query_db(query, db_path)\n",
    "\n",
    "# Get unique languages for the selector\n",
    "languages = sorted(vote_bins['original_language'].unique())\n",
    "\n",
    "# Create a dropdown selector\n",
    "lang_selector = widgets.Dropdown(\n",
    "    options=languages,\n",
    "    value=languages[0],\n",
    "    description='Language:',\n",
    "    style={'description_width': 'initial'}\n",
    ")\n",
    "\n",
    "def plot_vote_bins(selected_lang):\n",
    "    filtered = vote_bins[vote_bins['original_language'] == selected_lang]\n",
    "    fig = px.bar(\n",
    "        filtered,\n",
    "        x='vote_bin',\n",
    "        y='num_movies',\n",
    "        labels={'vote_bin': 'Vote Average (bin)', 'num_movies': 'Number of Movies'},\n",
    "        title=f'Number of Movies per Vote Average Bin for \"{selected_lang}\"'\n",
    "    )\n",
    "    fig.update_layout(xaxis=dict(dtick=1))\n",
    "    fig.show()\n",
    "\n",
    "widgets.interact(plot_vote_bins, selected_lang=lang_selector)\n"
   ]
  },
  {
   "cell_type": "code",
   "execution_count": 16,
   "metadata": {},
   "outputs": [],
   "source": [
    "query = \"\"\"\n",
    "        SELECT m.title, m.popularity, g.genre_name\n",
    "        FROM movies as m\n",
    "        JOIN movies_genres AS mg\n",
    "        ON m.id = mg.movie_id\n",
    "        LEFT JOIN genres as g\n",
    "        ON mg.genre_id = g.genre_id\n",
    "        WHERE g.genre_name = \"Horror\"\n",
    "        LIMIT 10\n",
    "    \"\"\"\n",
    "genres = query_db(query, db_path)"
   ]
  },
  {
   "cell_type": "code",
   "execution_count": 17,
   "metadata": {},
   "outputs": [
    {
     "data": {
      "text/html": [
       "<div>\n",
       "<style scoped>\n",
       "    .dataframe tbody tr th:only-of-type {\n",
       "        vertical-align: middle;\n",
       "    }\n",
       "\n",
       "    .dataframe tbody tr th {\n",
       "        vertical-align: top;\n",
       "    }\n",
       "\n",
       "    .dataframe thead th {\n",
       "        text-align: right;\n",
       "    }\n",
       "</style>\n",
       "<table border=\"1\" class=\"dataframe\">\n",
       "  <thead>\n",
       "    <tr style=\"text-align: right;\">\n",
       "      <th></th>\n",
       "      <th>title</th>\n",
       "      <th>popularity</th>\n",
       "      <th>genre_name</th>\n",
       "    </tr>\n",
       "  </thead>\n",
       "  <tbody>\n",
       "    <tr>\n",
       "      <th>0</th>\n",
       "      <td>Final Destination Bloodlines</td>\n",
       "      <td>1075.9213</td>\n",
       "      <td>Horror</td>\n",
       "    </tr>\n",
       "    <tr>\n",
       "      <th>1</th>\n",
       "      <td>Clown in a Cornfield</td>\n",
       "      <td>258.5491</td>\n",
       "      <td>Horror</td>\n",
       "    </tr>\n",
       "    <tr>\n",
       "      <th>2</th>\n",
       "      <td>Sinners</td>\n",
       "      <td>243.1523</td>\n",
       "      <td>Horror</td>\n",
       "    </tr>\n",
       "    <tr>\n",
       "      <th>3</th>\n",
       "      <td>The Ugly Stepsister</td>\n",
       "      <td>127.6963</td>\n",
       "      <td>Horror</td>\n",
       "    </tr>\n",
       "    <tr>\n",
       "      <th>4</th>\n",
       "      <td>Fear Below</td>\n",
       "      <td>87.8361</td>\n",
       "      <td>Horror</td>\n",
       "    </tr>\n",
       "    <tr>\n",
       "      <th>5</th>\n",
       "      <td>Until Dawn</td>\n",
       "      <td>74.8871</td>\n",
       "      <td>Horror</td>\n",
       "    </tr>\n",
       "    <tr>\n",
       "      <th>6</th>\n",
       "      <td>The Containment</td>\n",
       "      <td>57.1090</td>\n",
       "      <td>Horror</td>\n",
       "    </tr>\n",
       "    <tr>\n",
       "      <th>7</th>\n",
       "      <td>28 Years Later</td>\n",
       "      <td>50.4976</td>\n",
       "      <td>Horror</td>\n",
       "    </tr>\n",
       "    <tr>\n",
       "      <th>8</th>\n",
       "      <td>Rosario</td>\n",
       "      <td>47.4500</td>\n",
       "      <td>Horror</td>\n",
       "    </tr>\n",
       "    <tr>\n",
       "      <th>9</th>\n",
       "      <td>Fear Street: Prom Queen</td>\n",
       "      <td>44.5635</td>\n",
       "      <td>Horror</td>\n",
       "    </tr>\n",
       "  </tbody>\n",
       "</table>\n",
       "</div>"
      ],
      "text/plain": [
       "                          title  popularity genre_name\n",
       "0  Final Destination Bloodlines   1075.9213     Horror\n",
       "1          Clown in a Cornfield    258.5491     Horror\n",
       "2                       Sinners    243.1523     Horror\n",
       "3           The Ugly Stepsister    127.6963     Horror\n",
       "4                    Fear Below     87.8361     Horror\n",
       "5                    Until Dawn     74.8871     Horror\n",
       "6               The Containment     57.1090     Horror\n",
       "7                28 Years Later     50.4976     Horror\n",
       "8                       Rosario     47.4500     Horror\n",
       "9       Fear Street: Prom Queen     44.5635     Horror"
      ]
     },
     "execution_count": 17,
     "metadata": {},
     "output_type": "execute_result"
    }
   ],
   "source": [
    "genres"
   ]
  },
  {
   "cell_type": "code",
   "execution_count": 20,
   "metadata": {},
   "outputs": [
    {
     "data": {
      "text/html": [
       "<div>\n",
       "<style scoped>\n",
       "    .dataframe tbody tr th:only-of-type {\n",
       "        vertical-align: middle;\n",
       "    }\n",
       "\n",
       "    .dataframe tbody tr th {\n",
       "        vertical-align: top;\n",
       "    }\n",
       "\n",
       "    .dataframe thead th {\n",
       "        text-align: right;\n",
       "    }\n",
       "</style>\n",
       "<table border=\"1\" class=\"dataframe\">\n",
       "  <thead>\n",
       "    <tr style=\"text-align: right;\">\n",
       "      <th></th>\n",
       "      <th>genre_name</th>\n",
       "      <th>avg_rating</th>\n",
       "    </tr>\n",
       "  </thead>\n",
       "  <tbody>\n",
       "    <tr>\n",
       "      <th>0</th>\n",
       "      <td>Music</td>\n",
       "      <td>7.96</td>\n",
       "    </tr>\n",
       "    <tr>\n",
       "      <th>1</th>\n",
       "      <td>Documentary</td>\n",
       "      <td>7.89</td>\n",
       "    </tr>\n",
       "    <tr>\n",
       "      <th>2</th>\n",
       "      <td>History</td>\n",
       "      <td>7.47</td>\n",
       "    </tr>\n",
       "    <tr>\n",
       "      <th>3</th>\n",
       "      <td>Family</td>\n",
       "      <td>7.46</td>\n",
       "    </tr>\n",
       "    <tr>\n",
       "      <th>4</th>\n",
       "      <td>Science Fiction</td>\n",
       "      <td>7.39</td>\n",
       "    </tr>\n",
       "    <tr>\n",
       "      <th>5</th>\n",
       "      <td>Drama</td>\n",
       "      <td>7.37</td>\n",
       "    </tr>\n",
       "    <tr>\n",
       "      <th>6</th>\n",
       "      <td>Mystery</td>\n",
       "      <td>7.22</td>\n",
       "    </tr>\n",
       "    <tr>\n",
       "      <th>7</th>\n",
       "      <td>Comedy</td>\n",
       "      <td>7.16</td>\n",
       "    </tr>\n",
       "    <tr>\n",
       "      <th>8</th>\n",
       "      <td>Animation</td>\n",
       "      <td>7.13</td>\n",
       "    </tr>\n",
       "    <tr>\n",
       "      <th>9</th>\n",
       "      <td>Crime</td>\n",
       "      <td>7.08</td>\n",
       "    </tr>\n",
       "    <tr>\n",
       "      <th>10</th>\n",
       "      <td>Fantasy</td>\n",
       "      <td>6.96</td>\n",
       "    </tr>\n",
       "    <tr>\n",
       "      <th>11</th>\n",
       "      <td>Romance</td>\n",
       "      <td>6.93</td>\n",
       "    </tr>\n",
       "    <tr>\n",
       "      <th>12</th>\n",
       "      <td>Thriller</td>\n",
       "      <td>6.88</td>\n",
       "    </tr>\n",
       "    <tr>\n",
       "      <th>13</th>\n",
       "      <td>Western</td>\n",
       "      <td>6.82</td>\n",
       "    </tr>\n",
       "    <tr>\n",
       "      <th>14</th>\n",
       "      <td>Adventure</td>\n",
       "      <td>6.76</td>\n",
       "    </tr>\n",
       "    <tr>\n",
       "      <th>15</th>\n",
       "      <td>Horror</td>\n",
       "      <td>6.75</td>\n",
       "    </tr>\n",
       "    <tr>\n",
       "      <th>16</th>\n",
       "      <td>TV Movie</td>\n",
       "      <td>6.63</td>\n",
       "    </tr>\n",
       "    <tr>\n",
       "      <th>17</th>\n",
       "      <td>War</td>\n",
       "      <td>6.51</td>\n",
       "    </tr>\n",
       "    <tr>\n",
       "      <th>18</th>\n",
       "      <td>Action</td>\n",
       "      <td>6.51</td>\n",
       "    </tr>\n",
       "  </tbody>\n",
       "</table>\n",
       "</div>"
      ],
      "text/plain": [
       "         genre_name  avg_rating\n",
       "0             Music        7.96\n",
       "1       Documentary        7.89\n",
       "2           History        7.47\n",
       "3            Family        7.46\n",
       "4   Science Fiction        7.39\n",
       "5             Drama        7.37\n",
       "6           Mystery        7.22\n",
       "7            Comedy        7.16\n",
       "8         Animation        7.13\n",
       "9             Crime        7.08\n",
       "10          Fantasy        6.96\n",
       "11          Romance        6.93\n",
       "12         Thriller        6.88\n",
       "13          Western        6.82\n",
       "14        Adventure        6.76\n",
       "15           Horror        6.75\n",
       "16         TV Movie        6.63\n",
       "17              War        6.51\n",
       "18           Action        6.51"
      ]
     },
     "execution_count": 20,
     "metadata": {},
     "output_type": "execute_result"
    }
   ],
   "source": [
    "query_db(\"\"\"\n",
    "    SELECT g.genre_name, ROUND(AVG(m.vote_average), 2) AS avg_rating\n",
    "    FROM movies m\n",
    "    JOIN movies_genres mg ON m.id = mg.movie_id\n",
    "    JOIN genres g ON mg.genre_id = g.genre_id\n",
    "    WHERE m.vote_average > 0\n",
    "    GROUP BY g.genre_name\n",
    "    ORDER BY avg_rating DESC;\n",
    "\"\"\", db_path)"
   ]
  },
  {
   "cell_type": "code",
   "execution_count": 31,
   "metadata": {},
   "outputs": [
    {
     "data": {
      "text/html": [
       "<div>\n",
       "<style scoped>\n",
       "    .dataframe tbody tr th:only-of-type {\n",
       "        vertical-align: middle;\n",
       "    }\n",
       "\n",
       "    .dataframe tbody tr th {\n",
       "        vertical-align: top;\n",
       "    }\n",
       "\n",
       "    .dataframe thead th {\n",
       "        text-align: right;\n",
       "    }\n",
       "</style>\n",
       "<table border=\"1\" class=\"dataframe\">\n",
       "  <thead>\n",
       "    <tr style=\"text-align: right;\">\n",
       "      <th></th>\n",
       "      <th>id</th>\n",
       "      <th>title</th>\n",
       "      <th>release_date</th>\n",
       "      <th>original_language</th>\n",
       "      <th>adult</th>\n",
       "      <th>video</th>\n",
       "      <th>popularity</th>\n",
       "      <th>overview</th>\n",
       "      <th>vote_average</th>\n",
       "      <th>vote_count</th>\n",
       "    </tr>\n",
       "  </thead>\n",
       "  <tbody>\n",
       "    <tr>\n",
       "      <th>0</th>\n",
       "      <td>1</td>\n",
       "      <td>Final Destination Bloodlines</td>\n",
       "      <td>2025-05-14</td>\n",
       "      <td>en</td>\n",
       "      <td>0</td>\n",
       "      <td>0</td>\n",
       "      <td>1075.9213</td>\n",
       "      <td>Plagued by a violent recurring nightmare, coll...</td>\n",
       "      <td>7.118</td>\n",
       "      <td>777</td>\n",
       "    </tr>\n",
       "    <tr>\n",
       "      <th>1</th>\n",
       "      <td>2</td>\n",
       "      <td>STRAW</td>\n",
       "      <td>2025-06-05</td>\n",
       "      <td>en</td>\n",
       "      <td>0</td>\n",
       "      <td>0</td>\n",
       "      <td>501.8777</td>\n",
       "      <td>What will be her last straw? A devastatingly b...</td>\n",
       "      <td>8.101</td>\n",
       "      <td>467</td>\n",
       "    </tr>\n",
       "    <tr>\n",
       "      <th>2</th>\n",
       "      <td>3</td>\n",
       "      <td>Predator: Killer of Killers</td>\n",
       "      <td>2025-06-05</td>\n",
       "      <td>en</td>\n",
       "      <td>0</td>\n",
       "      <td>0</td>\n",
       "      <td>438.9421</td>\n",
       "      <td>While three of the fiercest warriors in human ...</td>\n",
       "      <td>7.981</td>\n",
       "      <td>515</td>\n",
       "    </tr>\n",
       "    <tr>\n",
       "      <th>3</th>\n",
       "      <td>4</td>\n",
       "      <td>Lilo &amp; Stitch</td>\n",
       "      <td>2025-05-17</td>\n",
       "      <td>en</td>\n",
       "      <td>0</td>\n",
       "      <td>0</td>\n",
       "      <td>430.0868</td>\n",
       "      <td>The wildly funny and touching story of a lonel...</td>\n",
       "      <td>7.088</td>\n",
       "      <td>647</td>\n",
       "    </tr>\n",
       "    <tr>\n",
       "      <th>4</th>\n",
       "      <td>5</td>\n",
       "      <td>The Accountant²</td>\n",
       "      <td>2025-04-23</td>\n",
       "      <td>en</td>\n",
       "      <td>0</td>\n",
       "      <td>0</td>\n",
       "      <td>378.3110</td>\n",
       "      <td>When an old acquaintance is murdered, Wolff is...</td>\n",
       "      <td>7.200</td>\n",
       "      <td>804</td>\n",
       "    </tr>\n",
       "    <tr>\n",
       "      <th>...</th>\n",
       "      <td>...</td>\n",
       "      <td>...</td>\n",
       "      <td>...</td>\n",
       "      <td>...</td>\n",
       "      <td>...</td>\n",
       "      <td>...</td>\n",
       "      <td>...</td>\n",
       "      <td>...</td>\n",
       "      <td>...</td>\n",
       "      <td>...</td>\n",
       "    </tr>\n",
       "    <tr>\n",
       "      <th>5244</th>\n",
       "      <td>5245</td>\n",
       "      <td>Stella Mosefund</td>\n",
       "      <td>2025-05-13</td>\n",
       "      <td>en</td>\n",
       "      <td>0</td>\n",
       "      <td>0</td>\n",
       "      <td>0.0143</td>\n",
       "      <td>Experimental short film about alter ego Stella...</td>\n",
       "      <td>7.000</td>\n",
       "      <td>1</td>\n",
       "    </tr>\n",
       "    <tr>\n",
       "      <th>5245</th>\n",
       "      <td>5246</td>\n",
       "      <td>7Spade</td>\n",
       "      <td>2025-05-11</td>\n",
       "      <td>en</td>\n",
       "      <td>0</td>\n",
       "      <td>0</td>\n",
       "      <td>0.0000</td>\n",
       "      <td>7Spade was once the greatest magician in the w...</td>\n",
       "      <td>9.000</td>\n",
       "      <td>1</td>\n",
       "    </tr>\n",
       "    <tr>\n",
       "      <th>5250</th>\n",
       "      <td>5251</td>\n",
       "      <td>MDNA</td>\n",
       "      <td>2025-05-12</td>\n",
       "      <td>el</td>\n",
       "      <td>0</td>\n",
       "      <td>0</td>\n",
       "      <td>0.0000</td>\n",
       "      <td>A no-storyline short film based on Christian o...</td>\n",
       "      <td>10.000</td>\n",
       "      <td>1</td>\n",
       "    </tr>\n",
       "    <tr>\n",
       "      <th>5253</th>\n",
       "      <td>5254</td>\n",
       "      <td>CI/LU</td>\n",
       "      <td>2025-05-09</td>\n",
       "      <td>pt</td>\n",
       "      <td>0</td>\n",
       "      <td>0</td>\n",
       "      <td>0.0000</td>\n",
       "      <td></td>\n",
       "      <td>5.000</td>\n",
       "      <td>1</td>\n",
       "    </tr>\n",
       "    <tr>\n",
       "      <th>5296</th>\n",
       "      <td>5297</td>\n",
       "      <td>1969: Killers, Freaks, and Radicals</td>\n",
       "      <td>2025-05-16</td>\n",
       "      <td>en</td>\n",
       "      <td>0</td>\n",
       "      <td>0</td>\n",
       "      <td>0.0000</td>\n",
       "      <td>Amid the radical politics and cultural upheava...</td>\n",
       "      <td>5.000</td>\n",
       "      <td>1</td>\n",
       "    </tr>\n",
       "  </tbody>\n",
       "</table>\n",
       "<p>1208 rows × 10 columns</p>\n",
       "</div>"
      ],
      "text/plain": [
       "        id                                title release_date  \\\n",
       "0        1         Final Destination Bloodlines   2025-05-14   \n",
       "1        2                                STRAW   2025-06-05   \n",
       "2        3          Predator: Killer of Killers   2025-06-05   \n",
       "3        4                        Lilo & Stitch   2025-05-17   \n",
       "4        5                      The Accountant²   2025-04-23   \n",
       "...    ...                                  ...          ...   \n",
       "5244  5245                      Stella Mosefund   2025-05-13   \n",
       "5245  5246                               7Spade   2025-05-11   \n",
       "5250  5251                                 MDNA   2025-05-12   \n",
       "5253  5254                                CI/LU   2025-05-09   \n",
       "5296  5297  1969: Killers, Freaks, and Radicals   2025-05-16   \n",
       "\n",
       "     original_language  adult  video  popularity  \\\n",
       "0                   en      0      0   1075.9213   \n",
       "1                   en      0      0    501.8777   \n",
       "2                   en      0      0    438.9421   \n",
       "3                   en      0      0    430.0868   \n",
       "4                   en      0      0    378.3110   \n",
       "...                ...    ...    ...         ...   \n",
       "5244                en      0      0      0.0143   \n",
       "5245                en      0      0      0.0000   \n",
       "5250                el      0      0      0.0000   \n",
       "5253                pt      0      0      0.0000   \n",
       "5296                en      0      0      0.0000   \n",
       "\n",
       "                                               overview  vote_average  \\\n",
       "0     Plagued by a violent recurring nightmare, coll...         7.118   \n",
       "1     What will be her last straw? A devastatingly b...         8.101   \n",
       "2     While three of the fiercest warriors in human ...         7.981   \n",
       "3     The wildly funny and touching story of a lonel...         7.088   \n",
       "4     When an old acquaintance is murdered, Wolff is...         7.200   \n",
       "...                                                 ...           ...   \n",
       "5244  Experimental short film about alter ego Stella...         7.000   \n",
       "5245  7Spade was once the greatest magician in the w...         9.000   \n",
       "5250  A no-storyline short film based on Christian o...        10.000   \n",
       "5253                                                            5.000   \n",
       "5296  Amid the radical politics and cultural upheava...         5.000   \n",
       "\n",
       "      vote_count  \n",
       "0            777  \n",
       "1            467  \n",
       "2            515  \n",
       "3            647  \n",
       "4            804  \n",
       "...          ...  \n",
       "5244           1  \n",
       "5245           1  \n",
       "5250           1  \n",
       "5253           1  \n",
       "5296           1  \n",
       "\n",
       "[1208 rows x 10 columns]"
      ]
     },
     "execution_count": 31,
     "metadata": {},
     "output_type": "execute_result"
    }
   ],
   "source": [
    "movies_df[movies_df['vote_average'] > 0]"
   ]
  },
  {
   "cell_type": "code",
   "execution_count": 32,
   "metadata": {},
   "outputs": [
    {
     "data": {
      "application/vnd.plotly.v1+json": {
       "config": {
        "plotlyServerURL": "https://plot.ly"
       },
       "data": [
        {
         "alignmentgroup": "True",
         "hovertemplate": "Original Language=%{x}<br>Vote Average=%{y}<extra></extra>",
         "legendgroup": "",
         "marker": {
          "color": "#636efa"
         },
         "name": "",
         "notched": false,
         "offsetgroup": "",
         "orientation": "v",
         "showlegend": false,
         "type": "box",
         "x": [
          "en",
          "en",
          "en",
          "en",
          "en",
          "en",
          "en",
          "en",
          "en",
          "fr",
          "en",
          "en",
          "en",
          "en",
          "en",
          "en",
          "en",
          "en",
          "en",
          "en",
          "en",
          "es",
          "es",
          "en",
          "en",
          "fr",
          "en",
          "en",
          "en",
          "en",
          "en",
          "en",
          "en",
          "en",
          "en",
          "en",
          "en",
          "en",
          "en",
          "en",
          "en",
          "es",
          "zh",
          "en",
          "en",
          "en",
          "en",
          "en",
          "es",
          "en",
          "en",
          "fr",
          "en",
          "en",
          "en",
          "en",
          "fr",
          "en",
          "en",
          "en",
          "en",
          "en",
          "en",
          "en",
          "en",
          "en",
          "en",
          "en",
          "en",
          "en",
          "en",
          "en",
          "en",
          "fr",
          "en",
          "en",
          "en",
          "en",
          "en",
          "en",
          "en",
          "en",
          "fr",
          "en",
          "en",
          "en",
          "en",
          "pt",
          "en",
          "en",
          "es",
          "es",
          "zh",
          "pt",
          "en",
          "en",
          "en",
          "en",
          "fr",
          "en",
          "en",
          "en",
          "en",
          "en",
          "en",
          "en",
          "es",
          "en",
          "en",
          "es",
          "en",
          "en",
          "en",
          "en",
          "en",
          "fr",
          "en",
          "en",
          "zh",
          "en",
          "en",
          "en",
          "fr",
          "en",
          "en",
          "en",
          "en",
          "en",
          "en",
          "en",
          "en",
          "en",
          "en",
          "fr",
          "en",
          "en",
          "en",
          "es",
          "en",
          "en",
          "en",
          "es",
          "en",
          "en",
          "en",
          "en",
          "en",
          "en",
          "en",
          "en",
          "en",
          "en",
          "zh",
          "en",
          "en",
          "en",
          "en",
          "en",
          "en",
          "en",
          "pt",
          "es",
          "en",
          "zh",
          "en",
          "es",
          "en",
          "en",
          "en",
          "en",
          "en",
          "es",
          "es",
          "en",
          "en",
          "fr",
          "en",
          "en",
          "zh",
          "en",
          "en",
          "en",
          "fr",
          "es",
          "zh",
          "en",
          "en",
          "es",
          "en",
          "en",
          "en",
          "en",
          "en",
          "zh",
          "en",
          "fr",
          "es",
          "en",
          "en",
          "fr",
          "fr",
          "zh",
          "fr",
          "en",
          "en",
          "fr",
          "en",
          "fr",
          "en",
          "zh",
          "en",
          "en",
          "en",
          "en",
          "fr",
          "es",
          "en",
          "en",
          "en",
          "en",
          "en",
          "es",
          "en",
          "fr",
          "en",
          "pt",
          "en",
          "zh",
          "en",
          "fr",
          "zh",
          "en",
          "en",
          "fr",
          "fr",
          "fr",
          "fr",
          "zh",
          "en",
          "en",
          "zh",
          "en",
          "fr",
          "en",
          "en",
          "en",
          "en",
          "en",
          "en",
          "en",
          "zh",
          "en",
          "fr",
          "fr",
          "en",
          "fr",
          "fr",
          "en",
          "zh",
          "fr",
          "en",
          "en",
          "fr",
          "zh",
          "en",
          "en",
          "fr",
          "en",
          "en",
          "en",
          "fr",
          "en",
          "en",
          "zh",
          "en",
          "fr",
          "en",
          "fr",
          "en",
          "fr",
          "en",
          "zh",
          "pt",
          "en",
          "en",
          "en",
          "en",
          "en",
          "en",
          "fr",
          "en",
          "pt",
          "en",
          "en",
          "es",
          "en",
          "es",
          "fr",
          "en",
          "en",
          "en",
          "en",
          "fr",
          "fr",
          "pt",
          "zh",
          "es",
          "zh",
          "fr",
          "fr",
          "en",
          "fr",
          "fr",
          "pt",
          "fr",
          "fr",
          "zh",
          "fr",
          "fr",
          "es",
          "en",
          "fr",
          "en",
          "en",
          "en",
          "fr",
          "zh",
          "es",
          "es",
          "zh",
          "es",
          "es",
          "en",
          "en",
          "en",
          "en",
          "fr",
          "zh",
          "en",
          "en",
          "en",
          "en",
          "zh",
          "en",
          "es",
          "en",
          "en",
          "zh",
          "es",
          "en",
          "zh",
          "zh",
          "fr",
          "en",
          "en",
          "fr",
          "zh",
          "fr",
          "en",
          "zh",
          "en",
          "fr",
          "en",
          "en",
          "zh",
          "fr",
          "fr",
          "en",
          "en",
          "fr",
          "en",
          "en",
          "fr",
          "en",
          "en",
          "en",
          "fr",
          "en",
          "en",
          "pt",
          "en",
          "fr",
          "en",
          "en",
          "en",
          "en",
          "fr",
          "en",
          "en",
          "zh",
          "en",
          "zh",
          "en",
          "es",
          "en",
          "fr",
          "en",
          "en",
          "en",
          "fr",
          "fr",
          "en",
          "fr",
          "fr",
          "fr",
          "zh",
          "en",
          "en",
          "fr",
          "en",
          "en",
          "pt",
          "en",
          "en",
          "fr",
          "en",
          "en",
          "pt",
          "pt",
          "en",
          "fr",
          "en",
          "en",
          "en",
          "en",
          "fr",
          "en",
          "en",
          "en",
          "en",
          "en",
          "en",
          "fr",
          "en",
          "fr",
          "fr",
          "pt",
          "fr",
          "es",
          "en",
          "fr",
          "fr",
          "en",
          "en",
          "en",
          "en",
          "es",
          "en",
          "pt",
          "en",
          "es",
          "en",
          "fr",
          "fr",
          "es",
          "fr",
          "fr",
          "en",
          "en",
          "fr",
          "fr",
          "es",
          "en",
          "zh",
          "pt",
          "en",
          "es",
          "fr",
          "fr",
          "fr",
          "en",
          "zh",
          "en",
          "fr",
          "fr",
          "en",
          "en",
          "en",
          "en",
          "fr",
          "es",
          "en",
          "zh",
          "fr",
          "en",
          "es",
          "fr",
          "en",
          "en",
          "en",
          "fr",
          "fr",
          "fr",
          "pt",
          "en",
          "en",
          "fr",
          "en",
          "fr",
          "en",
          "es",
          "fr",
          "es",
          "en",
          "fr",
          "fr",
          "es",
          "en",
          "fr",
          "en",
          "en",
          "en",
          "en",
          "en",
          "es",
          "es",
          "en",
          "en",
          "en",
          "en",
          "fr",
          "en",
          "en",
          "en",
          "en",
          "pt",
          "fr",
          "en",
          "es",
          "en",
          "en",
          "fr",
          "pt",
          "es",
          "fr",
          "fr",
          "en",
          "es",
          "fr",
          "en",
          "es",
          "en",
          "en",
          "en",
          "en",
          "fr",
          "en",
          "pt",
          "en",
          "en",
          "en",
          "fr",
          "fr",
          "en",
          "en",
          "en",
          "pt",
          "fr",
          "fr",
          "fr",
          "en",
          "en",
          "fr",
          "es",
          "pt",
          "es",
          "en",
          "en",
          "en",
          "pt",
          "fr",
          "en",
          "en",
          "en",
          "es",
          "en",
          "pt",
          "fr",
          "en",
          "en",
          "en",
          "pt",
          "en",
          "en",
          "pt",
          "es",
          "fr",
          "pt",
          "en",
          "pt",
          "en",
          "pt",
          "en",
          "en",
          "pt",
          "en",
          "en",
          "en",
          "en",
          "en",
          "es",
          "en",
          "fr",
          "fr",
          "en",
          "en",
          "en",
          "fr",
          "pt",
          "pt",
          "en",
          "en",
          "pt",
          "en",
          "en",
          "en",
          "en",
          "en",
          "pt",
          "en",
          "en",
          "fr",
          "en",
          "en",
          "en",
          "pt",
          "es",
          "fr",
          "en",
          "fr",
          "fr",
          "fr",
          "fr",
          "en",
          "en",
          "en",
          "en",
          "en",
          "en",
          "fr",
          "fr",
          "es",
          "en",
          "es",
          "en",
          "en",
          "en",
          "en",
          "en",
          "en",
          "es",
          "fr",
          "pt",
          "en",
          "en",
          "fr",
          "en",
          "en",
          "en",
          "fr",
          "fr",
          "en",
          "en",
          "en",
          "en",
          "en",
          "en",
          "fr",
          "en",
          "es",
          "en",
          "en",
          "pt",
          "en",
          "en",
          "en",
          "en",
          "en",
          "en",
          "es",
          "fr",
          "en",
          "en",
          "fr",
          "en",
          "en",
          "en",
          "en",
          "en",
          "en",
          "zh",
          "en",
          "en",
          "en",
          "en",
          "en",
          "en",
          "es",
          "en",
          "pt",
          "es",
          "en",
          "es",
          "en",
          "en",
          "fr",
          "en",
          "en",
          "en",
          "pt",
          "en",
          "en",
          "zh",
          "en",
          "es",
          "es",
          "en",
          "en",
          "es",
          "en",
          "en",
          "es",
          "en",
          "en",
          "en",
          "en",
          "en",
          "fr",
          "en",
          "en",
          "fr",
          "en",
          "fr",
          "fr",
          "fr",
          "en",
          "pt",
          "fr",
          "en",
          "en",
          "en",
          "es",
          "en",
          "pt",
          "pt",
          "en",
          "es",
          "es",
          "en",
          "fr",
          "en",
          "en",
          "pt",
          "en",
          "en",
          "en",
          "en",
          "en",
          "es",
          "en",
          "fr",
          "en",
          "en",
          "fr",
          "en",
          "en",
          "pt",
          "pt",
          "en",
          "en",
          "en",
          "es",
          "pt",
          "pt",
          "en",
          "en",
          "en",
          "en",
          "pt",
          "en",
          "en",
          "en",
          "en",
          "en",
          "en",
          "fr",
          "en",
          "en",
          "en",
          "en",
          "en",
          "en",
          "en",
          "en",
          "pt",
          "en",
          "en",
          "pt",
          "en",
          "en",
          "es",
          "en",
          "en",
          "en",
          "en",
          "en",
          "en",
          "en",
          "en",
          "es",
          "en",
          "en",
          "fr",
          "en",
          "en",
          "en",
          "pt",
          "en",
          "en",
          "fr",
          "es",
          "en",
          "es",
          "en",
          "en",
          "en",
          "en",
          "pt",
          "en",
          "en",
          "pt",
          "en"
         ],
         "x0": " ",
         "xaxis": "x",
         "y": {
          "bdata": "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",
          "dtype": "f8"
         },
         "y0": " ",
         "yaxis": "y"
        }
       ],
       "layout": {
        "boxmode": "group",
        "legend": {
         "tracegroupgap": 0
        },
        "template": {
         "data": {
          "bar": [
           {
            "error_x": {
             "color": "#2a3f5f"
            },
            "error_y": {
             "color": "#2a3f5f"
            },
            "marker": {
             "line": {
              "color": "#E5ECF6",
              "width": 0.5
             },
             "pattern": {
              "fillmode": "overlay",
              "size": 10,
              "solidity": 0.2
             }
            },
            "type": "bar"
           }
          ],
          "barpolar": [
           {
            "marker": {
             "line": {
              "color": "#E5ECF6",
              "width": 0.5
             },
             "pattern": {
              "fillmode": "overlay",
              "size": 10,
              "solidity": 0.2
             }
            },
            "type": "barpolar"
           }
          ],
          "carpet": [
           {
            "aaxis": {
             "endlinecolor": "#2a3f5f",
             "gridcolor": "white",
             "linecolor": "white",
             "minorgridcolor": "white",
             "startlinecolor": "#2a3f5f"
            },
            "baxis": {
             "endlinecolor": "#2a3f5f",
             "gridcolor": "white",
             "linecolor": "white",
             "minorgridcolor": "white",
             "startlinecolor": "#2a3f5f"
            },
            "type": "carpet"
           }
          ],
          "choropleth": [
           {
            "colorbar": {
             "outlinewidth": 0,
             "ticks": ""
            },
            "type": "choropleth"
           }
          ],
          "contour": [
           {
            "colorbar": {
             "outlinewidth": 0,
             "ticks": ""
            },
            "colorscale": [
             [
              0,
              "#0d0887"
             ],
             [
              0.1111111111111111,
              "#46039f"
             ],
             [
              0.2222222222222222,
              "#7201a8"
             ],
             [
              0.3333333333333333,
              "#9c179e"
             ],
             [
              0.4444444444444444,
              "#bd3786"
             ],
             [
              0.5555555555555556,
              "#d8576b"
             ],
             [
              0.6666666666666666,
              "#ed7953"
             ],
             [
              0.7777777777777778,
              "#fb9f3a"
             ],
             [
              0.8888888888888888,
              "#fdca26"
             ],
             [
              1,
              "#f0f921"
             ]
            ],
            "type": "contour"
           }
          ],
          "contourcarpet": [
           {
            "colorbar": {
             "outlinewidth": 0,
             "ticks": ""
            },
            "type": "contourcarpet"
           }
          ],
          "heatmap": [
           {
            "colorbar": {
             "outlinewidth": 0,
             "ticks": ""
            },
            "colorscale": [
             [
              0,
              "#0d0887"
             ],
             [
              0.1111111111111111,
              "#46039f"
             ],
             [
              0.2222222222222222,
              "#7201a8"
             ],
             [
              0.3333333333333333,
              "#9c179e"
             ],
             [
              0.4444444444444444,
              "#bd3786"
             ],
             [
              0.5555555555555556,
              "#d8576b"
             ],
             [
              0.6666666666666666,
              "#ed7953"
             ],
             [
              0.7777777777777778,
              "#fb9f3a"
             ],
             [
              0.8888888888888888,
              "#fdca26"
             ],
             [
              1,
              "#f0f921"
             ]
            ],
            "type": "heatmap"
           }
          ],
          "histogram": [
           {
            "marker": {
             "pattern": {
              "fillmode": "overlay",
              "size": 10,
              "solidity": 0.2
             }
            },
            "type": "histogram"
           }
          ],
          "histogram2d": [
           {
            "colorbar": {
             "outlinewidth": 0,
             "ticks": ""
            },
            "colorscale": [
             [
              0,
              "#0d0887"
             ],
             [
              0.1111111111111111,
              "#46039f"
             ],
             [
              0.2222222222222222,
              "#7201a8"
             ],
             [
              0.3333333333333333,
              "#9c179e"
             ],
             [
              0.4444444444444444,
              "#bd3786"
             ],
             [
              0.5555555555555556,
              "#d8576b"
             ],
             [
              0.6666666666666666,
              "#ed7953"
             ],
             [
              0.7777777777777778,
              "#fb9f3a"
             ],
             [
              0.8888888888888888,
              "#fdca26"
             ],
             [
              1,
              "#f0f921"
             ]
            ],
            "type": "histogram2d"
           }
          ],
          "histogram2dcontour": [
           {
            "colorbar": {
             "outlinewidth": 0,
             "ticks": ""
            },
            "colorscale": [
             [
              0,
              "#0d0887"
             ],
             [
              0.1111111111111111,
              "#46039f"
             ],
             [
              0.2222222222222222,
              "#7201a8"
             ],
             [
              0.3333333333333333,
              "#9c179e"
             ],
             [
              0.4444444444444444,
              "#bd3786"
             ],
             [
              0.5555555555555556,
              "#d8576b"
             ],
             [
              0.6666666666666666,
              "#ed7953"
             ],
             [
              0.7777777777777778,
              "#fb9f3a"
             ],
             [
              0.8888888888888888,
              "#fdca26"
             ],
             [
              1,
              "#f0f921"
             ]
            ],
            "type": "histogram2dcontour"
           }
          ],
          "mesh3d": [
           {
            "colorbar": {
             "outlinewidth": 0,
             "ticks": ""
            },
            "type": "mesh3d"
           }
          ],
          "parcoords": [
           {
            "line": {
             "colorbar": {
              "outlinewidth": 0,
              "ticks": ""
             }
            },
            "type": "parcoords"
           }
          ],
          "pie": [
           {
            "automargin": true,
            "type": "pie"
           }
          ],
          "scatter": [
           {
            "fillpattern": {
             "fillmode": "overlay",
             "size": 10,
             "solidity": 0.2
            },
            "type": "scatter"
           }
          ],
          "scatter3d": [
           {
            "line": {
             "colorbar": {
              "outlinewidth": 0,
              "ticks": ""
             }
            },
            "marker": {
             "colorbar": {
              "outlinewidth": 0,
              "ticks": ""
             }
            },
            "type": "scatter3d"
           }
          ],
          "scattercarpet": [
           {
            "marker": {
             "colorbar": {
              "outlinewidth": 0,
              "ticks": ""
             }
            },
            "type": "scattercarpet"
           }
          ],
          "scattergeo": [
           {
            "marker": {
             "colorbar": {
              "outlinewidth": 0,
              "ticks": ""
             }
            },
            "type": "scattergeo"
           }
          ],
          "scattergl": [
           {
            "marker": {
             "colorbar": {
              "outlinewidth": 0,
              "ticks": ""
             }
            },
            "type": "scattergl"
           }
          ],
          "scattermap": [
           {
            "marker": {
             "colorbar": {
              "outlinewidth": 0,
              "ticks": ""
             }
            },
            "type": "scattermap"
           }
          ],
          "scattermapbox": [
           {
            "marker": {
             "colorbar": {
              "outlinewidth": 0,
              "ticks": ""
             }
            },
            "type": "scattermapbox"
           }
          ],
          "scatterpolar": [
           {
            "marker": {
             "colorbar": {
              "outlinewidth": 0,
              "ticks": ""
             }
            },
            "type": "scatterpolar"
           }
          ],
          "scatterpolargl": [
           {
            "marker": {
             "colorbar": {
              "outlinewidth": 0,
              "ticks": ""
             }
            },
            "type": "scatterpolargl"
           }
          ],
          "scatterternary": [
           {
            "marker": {
             "colorbar": {
              "outlinewidth": 0,
              "ticks": ""
             }
            },
            "type": "scatterternary"
           }
          ],
          "surface": [
           {
            "colorbar": {
             "outlinewidth": 0,
             "ticks": ""
            },
            "colorscale": [
             [
              0,
              "#0d0887"
             ],
             [
              0.1111111111111111,
              "#46039f"
             ],
             [
              0.2222222222222222,
              "#7201a8"
             ],
             [
              0.3333333333333333,
              "#9c179e"
             ],
             [
              0.4444444444444444,
              "#bd3786"
             ],
             [
              0.5555555555555556,
              "#d8576b"
             ],
             [
              0.6666666666666666,
              "#ed7953"
             ],
             [
              0.7777777777777778,
              "#fb9f3a"
             ],
             [
              0.8888888888888888,
              "#fdca26"
             ],
             [
              1,
              "#f0f921"
             ]
            ],
            "type": "surface"
           }
          ],
          "table": [
           {
            "cells": {
             "fill": {
              "color": "#EBF0F8"
             },
             "line": {
              "color": "white"
             }
            },
            "header": {
             "fill": {
              "color": "#C8D4E3"
             },
             "line": {
              "color": "white"
             }
            },
            "type": "table"
           }
          ]
         },
         "layout": {
          "annotationdefaults": {
           "arrowcolor": "#2a3f5f",
           "arrowhead": 0,
           "arrowwidth": 1
          },
          "autotypenumbers": "strict",
          "coloraxis": {
           "colorbar": {
            "outlinewidth": 0,
            "ticks": ""
           }
          },
          "colorscale": {
           "diverging": [
            [
             0,
             "#8e0152"
            ],
            [
             0.1,
             "#c51b7d"
            ],
            [
             0.2,
             "#de77ae"
            ],
            [
             0.3,
             "#f1b6da"
            ],
            [
             0.4,
             "#fde0ef"
            ],
            [
             0.5,
             "#f7f7f7"
            ],
            [
             0.6,
             "#e6f5d0"
            ],
            [
             0.7,
             "#b8e186"
            ],
            [
             0.8,
             "#7fbc41"
            ],
            [
             0.9,
             "#4d9221"
            ],
            [
             1,
             "#276419"
            ]
           ],
           "sequential": [
            [
             0,
             "#0d0887"
            ],
            [
             0.1111111111111111,
             "#46039f"
            ],
            [
             0.2222222222222222,
             "#7201a8"
            ],
            [
             0.3333333333333333,
             "#9c179e"
            ],
            [
             0.4444444444444444,
             "#bd3786"
            ],
            [
             0.5555555555555556,
             "#d8576b"
            ],
            [
             0.6666666666666666,
             "#ed7953"
            ],
            [
             0.7777777777777778,
             "#fb9f3a"
            ],
            [
             0.8888888888888888,
             "#fdca26"
            ],
            [
             1,
             "#f0f921"
            ]
           ],
           "sequentialminus": [
            [
             0,
             "#0d0887"
            ],
            [
             0.1111111111111111,
             "#46039f"
            ],
            [
             0.2222222222222222,
             "#7201a8"
            ],
            [
             0.3333333333333333,
             "#9c179e"
            ],
            [
             0.4444444444444444,
             "#bd3786"
            ],
            [
             0.5555555555555556,
             "#d8576b"
            ],
            [
             0.6666666666666666,
             "#ed7953"
            ],
            [
             0.7777777777777778,
             "#fb9f3a"
            ],
            [
             0.8888888888888888,
             "#fdca26"
            ],
            [
             1,
             "#f0f921"
            ]
           ]
          },
          "colorway": [
           "#636efa",
           "#EF553B",
           "#00cc96",
           "#ab63fa",
           "#FFA15A",
           "#19d3f3",
           "#FF6692",
           "#B6E880",
           "#FF97FF",
           "#FECB52"
          ],
          "font": {
           "color": "#2a3f5f"
          },
          "geo": {
           "bgcolor": "white",
           "lakecolor": "white",
           "landcolor": "#E5ECF6",
           "showlakes": true,
           "showland": true,
           "subunitcolor": "white"
          },
          "hoverlabel": {
           "align": "left"
          },
          "hovermode": "closest",
          "mapbox": {
           "style": "light"
          },
          "paper_bgcolor": "white",
          "plot_bgcolor": "#E5ECF6",
          "polar": {
           "angularaxis": {
            "gridcolor": "white",
            "linecolor": "white",
            "ticks": ""
           },
           "bgcolor": "#E5ECF6",
           "radialaxis": {
            "gridcolor": "white",
            "linecolor": "white",
            "ticks": ""
           }
          },
          "scene": {
           "xaxis": {
            "backgroundcolor": "#E5ECF6",
            "gridcolor": "white",
            "gridwidth": 2,
            "linecolor": "white",
            "showbackground": true,
            "ticks": "",
            "zerolinecolor": "white"
           },
           "yaxis": {
            "backgroundcolor": "#E5ECF6",
            "gridcolor": "white",
            "gridwidth": 2,
            "linecolor": "white",
            "showbackground": true,
            "ticks": "",
            "zerolinecolor": "white"
           },
           "zaxis": {
            "backgroundcolor": "#E5ECF6",
            "gridcolor": "white",
            "gridwidth": 2,
            "linecolor": "white",
            "showbackground": true,
            "ticks": "",
            "zerolinecolor": "white"
           }
          },
          "shapedefaults": {
           "line": {
            "color": "#2a3f5f"
           }
          },
          "ternary": {
           "aaxis": {
            "gridcolor": "white",
            "linecolor": "white",
            "ticks": ""
           },
           "baxis": {
            "gridcolor": "white",
            "linecolor": "white",
            "ticks": ""
           },
           "bgcolor": "#E5ECF6",
           "caxis": {
            "gridcolor": "white",
            "linecolor": "white",
            "ticks": ""
           }
          },
          "title": {
           "x": 0.05
          },
          "xaxis": {
           "automargin": true,
           "gridcolor": "white",
           "linecolor": "white",
           "ticks": "",
           "title": {
            "standoff": 15
           },
           "zerolinecolor": "white",
           "zerolinewidth": 2
          },
          "yaxis": {
           "automargin": true,
           "gridcolor": "white",
           "linecolor": "white",
           "ticks": "",
           "title": {
            "standoff": 15
           },
           "zerolinecolor": "white",
           "zerolinewidth": 2
          }
         }
        },
        "title": {
         "text": "Vote Average Distribution for Top 5 Most Common Languages"
        },
        "xaxis": {
         "anchor": "y",
         "domain": [
          0,
          1
         ],
         "title": {
          "text": "Original Language"
         }
        },
        "yaxis": {
         "anchor": "x",
         "domain": [
          0,
          1
         ],
         "title": {
          "text": "Vote Average"
         }
        }
       }
      }
     },
     "metadata": {},
     "output_type": "display_data"
    }
   ],
   "source": [
    "top_5_languages = movies_df['original_language'].value_counts().head(5).index\n",
    "top_5_lang_df = movies_df.loc[movies_df['original_language'].isin(top_5_languages)]\n",
    "top_5_lang_df = top_5_lang_df[top_5_lang_df['vote_average'] > 0]\n",
    "\n",
    "fig = px.box(top_5_lang_df, \n",
    "             x='original_language', \n",
    "             y='vote_average',\n",
    "             title='Vote Average Distribution for Top 5 Most Common Languages',\n",
    "             labels={'original_language': 'Original Language', 'vote_average': 'Vote Average'})\n",
    "fig.show()\n"
   ]
  },
  {
   "cell_type": "code",
   "execution_count": 35,
   "metadata": {},
   "outputs": [
    {
     "data": {
      "application/vnd.plotly.v1+json": {
       "config": {
        "plotlyServerURL": "https://plot.ly"
       },
       "data": [
        {
         "hovertemplate": "Count=%{x}<br>Vote Average (Binned 1-10)=%{y}<extra></extra>",
         "legendgroup": "",
         "marker": {
          "color": "#636efa",
          "pattern": {
           "shape": ""
          }
         },
         "name": "",
         "orientation": "h",
         "showlegend": false,
         "textposition": "auto",
         "type": "bar",
         "x": {
          "bdata": "DwAMAAsAMgCNAB8BHQFuADgA8AA=",
          "dtype": "i2"
         },
         "xaxis": "x",
         "y": {
          "bdata": "AQIDBAUGBwgJCg==",
          "dtype": "i1"
         },
         "yaxis": "y"
        }
       ],
       "layout": {
        "barmode": "relative",
        "legend": {
         "tracegroupgap": 0
        },
        "template": {
         "data": {
          "bar": [
           {
            "error_x": {
             "color": "#2a3f5f"
            },
            "error_y": {
             "color": "#2a3f5f"
            },
            "marker": {
             "line": {
              "color": "#E5ECF6",
              "width": 0.5
             },
             "pattern": {
              "fillmode": "overlay",
              "size": 10,
              "solidity": 0.2
             }
            },
            "type": "bar"
           }
          ],
          "barpolar": [
           {
            "marker": {
             "line": {
              "color": "#E5ECF6",
              "width": 0.5
             },
             "pattern": {
              "fillmode": "overlay",
              "size": 10,
              "solidity": 0.2
             }
            },
            "type": "barpolar"
           }
          ],
          "carpet": [
           {
            "aaxis": {
             "endlinecolor": "#2a3f5f",
             "gridcolor": "white",
             "linecolor": "white",
             "minorgridcolor": "white",
             "startlinecolor": "#2a3f5f"
            },
            "baxis": {
             "endlinecolor": "#2a3f5f",
             "gridcolor": "white",
             "linecolor": "white",
             "minorgridcolor": "white",
             "startlinecolor": "#2a3f5f"
            },
            "type": "carpet"
           }
          ],
          "choropleth": [
           {
            "colorbar": {
             "outlinewidth": 0,
             "ticks": ""
            },
            "type": "choropleth"
           }
          ],
          "contour": [
           {
            "colorbar": {
             "outlinewidth": 0,
             "ticks": ""
            },
            "colorscale": [
             [
              0,
              "#0d0887"
             ],
             [
              0.1111111111111111,
              "#46039f"
             ],
             [
              0.2222222222222222,
              "#7201a8"
             ],
             [
              0.3333333333333333,
              "#9c179e"
             ],
             [
              0.4444444444444444,
              "#bd3786"
             ],
             [
              0.5555555555555556,
              "#d8576b"
             ],
             [
              0.6666666666666666,
              "#ed7953"
             ],
             [
              0.7777777777777778,
              "#fb9f3a"
             ],
             [
              0.8888888888888888,
              "#fdca26"
             ],
             [
              1,
              "#f0f921"
             ]
            ],
            "type": "contour"
           }
          ],
          "contourcarpet": [
           {
            "colorbar": {
             "outlinewidth": 0,
             "ticks": ""
            },
            "type": "contourcarpet"
           }
          ],
          "heatmap": [
           {
            "colorbar": {
             "outlinewidth": 0,
             "ticks": ""
            },
            "colorscale": [
             [
              0,
              "#0d0887"
             ],
             [
              0.1111111111111111,
              "#46039f"
             ],
             [
              0.2222222222222222,
              "#7201a8"
             ],
             [
              0.3333333333333333,
              "#9c179e"
             ],
             [
              0.4444444444444444,
              "#bd3786"
             ],
             [
              0.5555555555555556,
              "#d8576b"
             ],
             [
              0.6666666666666666,
              "#ed7953"
             ],
             [
              0.7777777777777778,
              "#fb9f3a"
             ],
             [
              0.8888888888888888,
              "#fdca26"
             ],
             [
              1,
              "#f0f921"
             ]
            ],
            "type": "heatmap"
           }
          ],
          "histogram": [
           {
            "marker": {
             "pattern": {
              "fillmode": "overlay",
              "size": 10,
              "solidity": 0.2
             }
            },
            "type": "histogram"
           }
          ],
          "histogram2d": [
           {
            "colorbar": {
             "outlinewidth": 0,
             "ticks": ""
            },
            "colorscale": [
             [
              0,
              "#0d0887"
             ],
             [
              0.1111111111111111,
              "#46039f"
             ],
             [
              0.2222222222222222,
              "#7201a8"
             ],
             [
              0.3333333333333333,
              "#9c179e"
             ],
             [
              0.4444444444444444,
              "#bd3786"
             ],
             [
              0.5555555555555556,
              "#d8576b"
             ],
             [
              0.6666666666666666,
              "#ed7953"
             ],
             [
              0.7777777777777778,
              "#fb9f3a"
             ],
             [
              0.8888888888888888,
              "#fdca26"
             ],
             [
              1,
              "#f0f921"
             ]
            ],
            "type": "histogram2d"
           }
          ],
          "histogram2dcontour": [
           {
            "colorbar": {
             "outlinewidth": 0,
             "ticks": ""
            },
            "colorscale": [
             [
              0,
              "#0d0887"
             ],
             [
              0.1111111111111111,
              "#46039f"
             ],
             [
              0.2222222222222222,
              "#7201a8"
             ],
             [
              0.3333333333333333,
              "#9c179e"
             ],
             [
              0.4444444444444444,
              "#bd3786"
             ],
             [
              0.5555555555555556,
              "#d8576b"
             ],
             [
              0.6666666666666666,
              "#ed7953"
             ],
             [
              0.7777777777777778,
              "#fb9f3a"
             ],
             [
              0.8888888888888888,
              "#fdca26"
             ],
             [
              1,
              "#f0f921"
             ]
            ],
            "type": "histogram2dcontour"
           }
          ],
          "mesh3d": [
           {
            "colorbar": {
             "outlinewidth": 0,
             "ticks": ""
            },
            "type": "mesh3d"
           }
          ],
          "parcoords": [
           {
            "line": {
             "colorbar": {
              "outlinewidth": 0,
              "ticks": ""
             }
            },
            "type": "parcoords"
           }
          ],
          "pie": [
           {
            "automargin": true,
            "type": "pie"
           }
          ],
          "scatter": [
           {
            "fillpattern": {
             "fillmode": "overlay",
             "size": 10,
             "solidity": 0.2
            },
            "type": "scatter"
           }
          ],
          "scatter3d": [
           {
            "line": {
             "colorbar": {
              "outlinewidth": 0,
              "ticks": ""
             }
            },
            "marker": {
             "colorbar": {
              "outlinewidth": 0,
              "ticks": ""
             }
            },
            "type": "scatter3d"
           }
          ],
          "scattercarpet": [
           {
            "marker": {
             "colorbar": {
              "outlinewidth": 0,
              "ticks": ""
             }
            },
            "type": "scattercarpet"
           }
          ],
          "scattergeo": [
           {
            "marker": {
             "colorbar": {
              "outlinewidth": 0,
              "ticks": ""
             }
            },
            "type": "scattergeo"
           }
          ],
          "scattergl": [
           {
            "marker": {
             "colorbar": {
              "outlinewidth": 0,
              "ticks": ""
             }
            },
            "type": "scattergl"
           }
          ],
          "scattermap": [
           {
            "marker": {
             "colorbar": {
              "outlinewidth": 0,
              "ticks": ""
             }
            },
            "type": "scattermap"
           }
          ],
          "scattermapbox": [
           {
            "marker": {
             "colorbar": {
              "outlinewidth": 0,
              "ticks": ""
             }
            },
            "type": "scattermapbox"
           }
          ],
          "scatterpolar": [
           {
            "marker": {
             "colorbar": {
              "outlinewidth": 0,
              "ticks": ""
             }
            },
            "type": "scatterpolar"
           }
          ],
          "scatterpolargl": [
           {
            "marker": {
             "colorbar": {
              "outlinewidth": 0,
              "ticks": ""
             }
            },
            "type": "scatterpolargl"
           }
          ],
          "scatterternary": [
           {
            "marker": {
             "colorbar": {
              "outlinewidth": 0,
              "ticks": ""
             }
            },
            "type": "scatterternary"
           }
          ],
          "surface": [
           {
            "colorbar": {
             "outlinewidth": 0,
             "ticks": ""
            },
            "colorscale": [
             [
              0,
              "#0d0887"
             ],
             [
              0.1111111111111111,
              "#46039f"
             ],
             [
              0.2222222222222222,
              "#7201a8"
             ],
             [
              0.3333333333333333,
              "#9c179e"
             ],
             [
              0.4444444444444444,
              "#bd3786"
             ],
             [
              0.5555555555555556,
              "#d8576b"
             ],
             [
              0.6666666666666666,
              "#ed7953"
             ],
             [
              0.7777777777777778,
              "#fb9f3a"
             ],
             [
              0.8888888888888888,
              "#fdca26"
             ],
             [
              1,
              "#f0f921"
             ]
            ],
            "type": "surface"
           }
          ],
          "table": [
           {
            "cells": {
             "fill": {
              "color": "#EBF0F8"
             },
             "line": {
              "color": "white"
             }
            },
            "header": {
             "fill": {
              "color": "#C8D4E3"
             },
             "line": {
              "color": "white"
             }
            },
            "type": "table"
           }
          ]
         },
         "layout": {
          "annotationdefaults": {
           "arrowcolor": "#2a3f5f",
           "arrowhead": 0,
           "arrowwidth": 1
          },
          "autotypenumbers": "strict",
          "coloraxis": {
           "colorbar": {
            "outlinewidth": 0,
            "ticks": ""
           }
          },
          "colorscale": {
           "diverging": [
            [
             0,
             "#8e0152"
            ],
            [
             0.1,
             "#c51b7d"
            ],
            [
             0.2,
             "#de77ae"
            ],
            [
             0.3,
             "#f1b6da"
            ],
            [
             0.4,
             "#fde0ef"
            ],
            [
             0.5,
             "#f7f7f7"
            ],
            [
             0.6,
             "#e6f5d0"
            ],
            [
             0.7,
             "#b8e186"
            ],
            [
             0.8,
             "#7fbc41"
            ],
            [
             0.9,
             "#4d9221"
            ],
            [
             1,
             "#276419"
            ]
           ],
           "sequential": [
            [
             0,
             "#0d0887"
            ],
            [
             0.1111111111111111,
             "#46039f"
            ],
            [
             0.2222222222222222,
             "#7201a8"
            ],
            [
             0.3333333333333333,
             "#9c179e"
            ],
            [
             0.4444444444444444,
             "#bd3786"
            ],
            [
             0.5555555555555556,
             "#d8576b"
            ],
            [
             0.6666666666666666,
             "#ed7953"
            ],
            [
             0.7777777777777778,
             "#fb9f3a"
            ],
            [
             0.8888888888888888,
             "#fdca26"
            ],
            [
             1,
             "#f0f921"
            ]
           ],
           "sequentialminus": [
            [
             0,
             "#0d0887"
            ],
            [
             0.1111111111111111,
             "#46039f"
            ],
            [
             0.2222222222222222,
             "#7201a8"
            ],
            [
             0.3333333333333333,
             "#9c179e"
            ],
            [
             0.4444444444444444,
             "#bd3786"
            ],
            [
             0.5555555555555556,
             "#d8576b"
            ],
            [
             0.6666666666666666,
             "#ed7953"
            ],
            [
             0.7777777777777778,
             "#fb9f3a"
            ],
            [
             0.8888888888888888,
             "#fdca26"
            ],
            [
             1,
             "#f0f921"
            ]
           ]
          },
          "colorway": [
           "#636efa",
           "#EF553B",
           "#00cc96",
           "#ab63fa",
           "#FFA15A",
           "#19d3f3",
           "#FF6692",
           "#B6E880",
           "#FF97FF",
           "#FECB52"
          ],
          "font": {
           "color": "#2a3f5f"
          },
          "geo": {
           "bgcolor": "white",
           "lakecolor": "white",
           "landcolor": "#E5ECF6",
           "showlakes": true,
           "showland": true,
           "subunitcolor": "white"
          },
          "hoverlabel": {
           "align": "left"
          },
          "hovermode": "closest",
          "mapbox": {
           "style": "light"
          },
          "paper_bgcolor": "white",
          "plot_bgcolor": "#E5ECF6",
          "polar": {
           "angularaxis": {
            "gridcolor": "white",
            "linecolor": "white",
            "ticks": ""
           },
           "bgcolor": "#E5ECF6",
           "radialaxis": {
            "gridcolor": "white",
            "linecolor": "white",
            "ticks": ""
           }
          },
          "scene": {
           "xaxis": {
            "backgroundcolor": "#E5ECF6",
            "gridcolor": "white",
            "gridwidth": 2,
            "linecolor": "white",
            "showbackground": true,
            "ticks": "",
            "zerolinecolor": "white"
           },
           "yaxis": {
            "backgroundcolor": "#E5ECF6",
            "gridcolor": "white",
            "gridwidth": 2,
            "linecolor": "white",
            "showbackground": true,
            "ticks": "",
            "zerolinecolor": "white"
           },
           "zaxis": {
            "backgroundcolor": "#E5ECF6",
            "gridcolor": "white",
            "gridwidth": 2,
            "linecolor": "white",
            "showbackground": true,
            "ticks": "",
            "zerolinecolor": "white"
           }
          },
          "shapedefaults": {
           "line": {
            "color": "#2a3f5f"
           }
          },
          "ternary": {
           "aaxis": {
            "gridcolor": "white",
            "linecolor": "white",
            "ticks": ""
           },
           "baxis": {
            "gridcolor": "white",
            "linecolor": "white",
            "ticks": ""
           },
           "bgcolor": "#E5ECF6",
           "caxis": {
            "gridcolor": "white",
            "linecolor": "white",
            "ticks": ""
           }
          },
          "title": {
           "x": 0.05
          },
          "xaxis": {
           "automargin": true,
           "gridcolor": "white",
           "linecolor": "white",
           "ticks": "",
           "title": {
            "standoff": 15
           },
           "zerolinecolor": "white",
           "zerolinewidth": 2
          },
          "yaxis": {
           "automargin": true,
           "gridcolor": "white",
           "linecolor": "white",
           "ticks": "",
           "title": {
            "standoff": 15
           },
           "zerolinecolor": "white",
           "zerolinewidth": 2
          }
         }
        },
        "title": {
         "text": "Number of Movies per Vote Average Bin"
        },
        "xaxis": {
         "anchor": "y",
         "domain": [
          0,
          1
         ],
         "title": {
          "text": "Count"
         }
        },
        "yaxis": {
         "anchor": "x",
         "domain": [
          0,
          1
         ],
         "dtick": 1,
         "title": {
          "text": "Vote Average (Binned 1-10)"
         }
        }
       }
      }
     },
     "metadata": {},
     "output_type": "display_data"
    }
   ],
   "source": [
    "import plotly.express as px\n",
    "\n",
    "# Bin vote_average into integer bins from 1 to 10\n",
    "vote_bins = movies_df[movies_df['vote_average']>=1]\n",
    "vote_bins = vote_bins['vote_average'].clip(lower=1, upper=10).astype(int)\n",
    "bin_counts = vote_bins.value_counts().sort_index()\n",
    "\n",
    "# Prepare DataFrame for plotly\n",
    "bin_df = bin_counts.reset_index()\n",
    "bin_df.columns = ['vote_bin', 'count']\n",
    "\n",
    "fig = px.bar(\n",
    "    bin_df,\n",
    "    x='count',\n",
    "    y='vote_bin',\n",
    "    orientation='h',\n",
    "    labels={'count': 'Count', 'vote_bin': 'Vote Average (Binned 1-10)'},\n",
    "    title='Number of Movies per Vote Average Bin'\n",
    ")\n",
    "fig.update_layout(yaxis=dict(dtick=1))\n",
    "fig.show()\n",
    "\n"
   ]
  },
  {
   "cell_type": "code",
   "execution_count": null,
   "metadata": {},
   "outputs": [],
   "source": []
  }
 ],
 "metadata": {
  "kernelspec": {
   "display_name": "etl-movies-analysis-bBZcO3XL-py3.10",
   "language": "python",
   "name": "python3"
  },
  "language_info": {
   "codemirror_mode": {
    "name": "ipython",
    "version": 3
   },
   "file_extension": ".py",
   "mimetype": "text/x-python",
   "name": "python",
   "nbconvert_exporter": "python",
   "pygments_lexer": "ipython3",
   "version": "3.10.12"
  }
 },
 "nbformat": 4,
 "nbformat_minor": 2
}
